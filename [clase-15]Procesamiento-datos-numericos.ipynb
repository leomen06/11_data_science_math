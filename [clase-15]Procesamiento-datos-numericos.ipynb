{
 "cells": [
  {
   "cell_type": "markdown",
   "metadata": {
    "cell_id": "00000-3ae783b8-e68c-4e50-8584-76d9afd6d731",
    "deepnote_cell_type": "markdown",
    "tags": []
   },
   "source": [
    "### <a name=\"index\"></a> Index\n",
    "\n",
    "1. [Promedio (media, mean), Varianza, y Desviación Std](#mark_00)\n",
    "\n",
    "2. [Estandarización - Normalización de datos \"Escalamiento\"](#mark_01)\n",
    "\n",
    "3. [Diferentes tipos de escalamientos Lineales y sus características](#mark_02)\n",
    "\n",
    "4. [Que debo analizar para saber, cuál es el escalamiento Lineal correcto para mi dataset?](#mark_03)\n",
    "\n",
    "5. [Transformaciones Lineales](#mark_04)\n",
    "\n",
    "6. [Escalamiento max-min ejemplo](#mark_04.0)\n",
    "\n",
    "7. [Escalamiento z-score ejemplo](#mark_04.1)\n",
    "\n",
    "8. [Transformaciones No Lineales](#mark_05)\n",
    "\n",
    "9. [Diferentes tipos de escalamientos No Lineales y sus características](#mark_06)"
   ]
  },
  {
   "cell_type": "markdown",
   "metadata": {},
   "source": [
    "![resumen](https://www.matesfacil.com/ESO/estadistica/parametros/tabla_parametros_estadistica.png)"
   ]
  },
  {
   "cell_type": "markdown",
   "metadata": {},
   "source": [
    "### <a name=\"mark_00\"></a> Promedio (media, mean), Varianza, y Desviación Std:\n",
    "\n",
    "La desviación estándar es una medida de dispersión que indica qué tan dispersos están los valores de un conjunto de datos con respecto a su media. Es una medida de cuánto se alejan los valores individuales del promedio.\n",
    "\n",
    "La fórmula para calcular la desviación estándar es la raíz cuadrada de la varianza. La varianza es la media de las diferencias al cuadrado entre cada valor y la media.\n",
    "\n",
    "Aquí tienes un ejemplo para ilustrar el concepto de desviación estándar:\n",
    "\n",
    "Supongamos que tenemos los siguientes datos de calificaciones de cinco estudiantes en un examen: 85, 89, 90, 78, 92.\n",
    "\n",
    "1. Calcular la media:\n",
    "\n",
    "   Media = (85 + 89 + 90 + 78 + 92) / 5 = 86.8\n",
    "\n",
    "2. Calcular la diferencia al cuadrado entre cada valor y la media:\n",
    "   \n",
    "   (85 - 86.8)^2 = 3.24\n",
    "   \n",
    "   (89 - 86.8)^2 = 4.84\n",
    "   \n",
    "   (90 - 86.8)^2 = 10.24\n",
    "   \n",
    "   (78 - 86.8)^2 = 77.44\n",
    "   \n",
    "   (92 - 86.8)^2 = 27.04\n",
    "\n",
    "3. Calcular la varianza como la media de las diferencias al cuadrado:\n",
    "   \n",
    "   Varianza = (3.24 + 4.84 + 10.24 + 77.44 + 27.04) / 5 = 24.16\n",
    "\n",
    "4. Calcular la desviación estándar como la raíz cuadrada de la varianza:\n",
    "   \n",
    "   Desviación estándar = √(24.16) ≈ 4.915\n",
    "\n",
    "La desviación estándar en este ejemplo es aproximadamente 4.915. Esto significa que los valores individuales tienden a estar, en promedio, alrededor de 4.915 puntos alejados de la media.\n",
    "\n",
    "La desviación estándar es útil para comprender la dispersión de los datos. Valores más altos de desviación estándar indican una mayor dispersión, lo que significa que los valores individuales tienden a estar más alejados de la media. Por el contrario, valores más bajos de desviación estándar indican una menor dispersión y una mayor concentración de los valores alrededor de la media."
   ]
  },
  {
   "cell_type": "markdown",
   "metadata": {},
   "source": [
    "### <a name=\"mark_01\"></a> Estandarización - Normalización de datos \"Escalamiento\"\n",
    "\n",
    "El escalado lineal, también conocido como normalización, es una técnica utilizada en el preprocesamiento de datos para transformar los valores de las características (variables) a una escala común. El objetivo del escalado lineal es ajustar los valores de las características dentro de un rango específico, generalmente entre 0 y 1, o -1 y 1. Esto ayuda a evitar que una característica con un rango de valores mucho mayor tenga un impacto desproporcionado en un modelo de aprendizaje automático.\n",
    "\n",
    "El escalado lineal se realiza mediante la siguiente fórmula:\n",
    "\n",
    "```X' = (X - X_min) / (X_max - X_min)```\n",
    "\n",
    "Donde:\n",
    "- X' es el nuevo valor de la característica escalada.\n",
    "- X es el valor original de la característica.\n",
    "- X_min es el valor mínimo de la característica en el conjunto de datos.\n",
    "- X_max es el valor máximo de la característica en el conjunto de datos.\n",
    "\n",
    "Al aplicar el escalado lineal, los valores de las características se transforman de manera proporcional para que se ajusten al nuevo rango especificado. Esto preserva la distribución de los datos y mantiene las relaciones relativas entre los valores de las características.\n",
    "\n",
    "El escalado lineal es útil en situaciones donde las características tienen diferentes rangos y magnitudes, y se desea que todas las características tengan una influencia similar en el modelo. Además, algunos algoritmos de aprendizaje automático, como los basados en distancias, pueden verse afectados negativamente si las características no están en la misma escala. El escalado lineal ayuda a abordar este problema al normalizar los valores de las características."
   ]
  },
  {
   "cell_type": "markdown",
   "metadata": {},
   "source": [
    "### <a name=\"mark_02\"></a> Diferentes tipos de escalamientos y sus características:\n",
    "[Index](#index)\n",
    "\n",
    "Existen varios tipos de escalado utilizados en el preprocesamiento de datos. Aquí se presentan algunos de los tipos más comunes:\n",
    "\n",
    "1. Escalamiento lineal (Min-Max scaling):\n",
    "   - Características son escaladas al rango especificado, entre [0,1].\n",
    "   - Fórmula: ```X' = (X - X_min) / (X_max - X_min)```\n",
    "   - Características son escaladas al rango especificado, entre [-1,1].\n",
    "   - Fórmula res: ```X' = (2*X - X_min - X_max) / (X_max - X_min)```\n",
    "   - Fórmula des.: ```X' = (X - X_min - (X_max - X) / (X_max - X_min)```\n",
    "   - Preserva la distribución de los datos y las relaciones relativas entre las características.\n",
    "\n",
    "2. Estandarización Z-score (Standardization):\n",
    "   - Características son escaladas para tener una media de 0 y una desviación estándar de 1.\n",
    "   - Fórmula: ```X' = (X - mean) / std```\n",
    "   - Centra los datos alrededor de la media y hace que tengan una dispersión similar.\n",
    "   - No limita los valores a un rango específico.\n",
    "   - Esta técnica es útil cuando los datos tienen una distribución normal o aproximadamente normal.\n",
    "\n",
    "3. Escalamiento robusto (Robust scaling):\n",
    "   - Utiliza estadísticas robustas como la mediana y el rango intercuartil (IQR) en lugar de la media y la desviación estándar.\n",
    "   - Es menos sensible a valores atípicos en los datos.\n",
    "   - Fórmula: ```X' = (X - median) / IQR```\n",
    "\n",
    "4. Escalamiento logarítmico (Logarithmic scaling):\n",
    "   - Aplica una transformación logarítmica a los valores de las características.\n",
    "   - Útil cuando los datos tienen una distribución sesgada o con valores extremadamente grandes.\n",
    "   - Puede ayudar a reducir la variabilidad y hacer que los datos se asemejen más a una distribución normal.\n",
    "   \n",
    "5. Clipping:\n",
    "    - El escalamiento por clipping (recorte) es una técnica que limita los valores de los datos a un rango específico. Los valores que caen por debajo del límite inferior se establecen en el límite inferior, y los valores que superan el límite superior se establecen en el límite superior. La fórmula para el escalamiento por clipping es:\n",
    "\n",
    "    - Formula: ```x_scaled = max(min(x, upper_limit), lower_limit)```\n",
    "\n",
    "    - Donde x es el valor original, x_scaled es el valor escalado y upper_limit y lower_limit son los límites superiores e inferiores, respectivamente.\n",
    "    \n",
    "6. Winsorizing:\n",
    "    - El winsorizing es una técnica de escalamiento que trata los valores extremos (outliers) al asignarles un valor máximo o mínimo dentro de un rango específico en lugar de eliminarlos o cambiarlos drásticamente. En lugar de eliminar los valores atípicos, se los reemplaza por valores dentro del rango intercuartílico (IQR). La fórmula para el winsorizing es:\n",
    "\n",
    "    - Formula: ```x_scaled = min(max(x, lower_limit), upper_limit)```\n",
    "\n",
    "    - Donde x es el valor original, x_scaled es el valor escalado, lower_limit es el límite inferior del rango intercuartílico y upper_limit es el límite superior del rango intercuartílico.\n",
    "\n",
    "Estos son solo algunos ejemplos de técnicas de escalado utilizadas en el preprocesamiento de datos. La elección del método de escalado depende del tipo de datos, la distribución de las características y los requisitos del modelo de aprendizaje automático que se va a utilizar. Es importante evaluar el efecto del escalado en los datos y en el rendimiento del modelo para seleccionar el método más adecuado."
   ]
  },
  {
   "cell_type": "markdown",
   "metadata": {},
   "source": [
    "### <a name=\"mark_03\"></a> Que debo analizar para saber, cuál es el escalamiento correcto para mi dataset?:\n",
    "\n",
    "[Index](#index)\n",
    "\n",
    "Para determinar el escalamiento correcto para tu dataset, es importante considerar varios factores. Aquí hay algunas pautas que puedes seguir:\n",
    "\n",
    "1. Distribución de los datos: Observa la distribución de tus características. Si tus datos siguen una distribución normal, es posible que la estandarización sea adecuada. Si tienes datos con una distribución sesgada o valores extremadamente grandes, es posible que el escalamiento logarítmico o el escalamiento robusto sean más apropiados.\n",
    "\n",
    "2. Requisitos del modelo: Considera los requisitos del modelo de aprendizaje automático que planeas utilizar. Algunos algoritmos, como las redes neuronales, pueden beneficiarse de la estandarización, mientras que otros, como los árboles de decisión, no se ven afectados por el escalamiento.\n",
    "\n",
    "3. Valores atípicos: Si tienes valores atípicos en tus datos, es posible que el escalamiento robusto sea más adecuado, ya que es menos sensible a estos valores extremos.\n",
    "\n",
    "4. Rango de valores: Si deseas mantener la interpretación directa de los valores originales y limitarlos a un rango específico, el escalamiento lineal (Min-Max scaling) puede ser una opción adecuada.\n",
    "\n",
    "5. Comparación de diferentes métodos: Prueba diferentes métodos de escalado en tu dataset y evalúa el efecto en el rendimiento del modelo. Puedes usar técnicas de validación cruzada o métricas de evaluación para comparar y seleccionar el método que produce los mejores resultados.\n",
    "\n",
    "En resumen, es importante comprender las características y la distribución de tus datos, así como los requisitos del modelo, para determinar el método de escalado más adecuado. También es recomendable realizar experimentos y evaluaciones comparativas para seleccionar el método óptimo para tu dataset y el modelo que deseas utilizar."
   ]
  },
  {
   "cell_type": "markdown",
   "metadata": {
    "cell_id": "00001-1fa33800-9e78-4de9-9f32-8a55be925f26",
    "deepnote_cell_type": "markdown",
    "tags": []
   },
   "source": [
    "### <a name=\"mark_04\"></a>Transformaciones lineales\n",
    "\n",
    "[Index](#index)"
   ]
  },
  {
   "cell_type": "code",
   "execution_count": 2,
   "metadata": {
    "cell_id": "00000-dd8388cc-7c25-45a6-8492-0cb9cad04e24",
    "deepnote_cell_type": "code",
    "deepnote_to_be_reexecuted": false,
    "execution_millis": 2532,
    "execution_start": 1622484982440,
    "source_hash": "f9ac71d",
    "tags": []
   },
   "outputs": [],
   "source": [
    "import timeit #Biblioteca que proporciona herramientas para medir el tiempo de ejecución del código.\n",
    "import numpy as np\n",
    "import pandas as pd \n",
    "import matplotlib.pyplot as plt\n",
    "'''\n",
    "Nota: datasets y linear_model del módulo sklearn (Scikit-learn): Proporciona herramientas para \n",
    "el aprendizaje automático y la minería de datos.\n",
    "'''\n",
    "\n",
    "#Importando \"datasets\" y modelo de \"regresión lineal\"\n",
    "from sklearn import datasets, linear_model\n",
    "\n",
    "#cargando dataset\n",
    "X, y = datasets.load_diabetes(return_X_y=True)\n",
    "raw = X[:, None, 2]"
   ]
  },
  {
   "cell_type": "markdown",
   "metadata": {},
   "source": [
    "## X, y = datasets.load_diabetes(return_X_y=True):\n",
    "\n",
    "1. datasets.load_diabetes es una función proporcionada por la biblioteca Scikit-learn (sklearn) que carga el dataset de diabetes.\n",
    "\n",
    "* El argumento return_X_y=True se utiliza para indicar que se deben devolver tanto las características (X) como las etiquetas (y) del dataset.\n",
    "\n",
    "* La función load_diabetes carga el dataset y devuelve dos variables:\n",
    "\n",
    "* **X:** Una matriz que contiene las características (o variables independientes) del dataset de diabetes. Cada fila representa una instancia o muestra, y cada columna representa una característica específica.\n",
    "\n",
    "* **y:** Un vector que contiene las etiquetas (o variable dependiente) del dataset de diabetes. Cada valor en el vector corresponde a la etiqueta asociada a una instancia específica en X.\n",
    "\n",
    "En el contexto del problema de la diabetes, cada instancia o muestra en el dataset tiene una serie de características (variables independientes) asociadas a ella, como la edad, el índice de masa corporal, la presión arterial, etc. Estas características se representan en la matriz X.\n",
    "\n",
    "Sin embargo, además de estas características, también tenemos una variable adicional que queremos predecir o modelar, que en este caso es una medida cuantitativa de la progresión de la enfermedad de la diabetes después de un año. Esta variable se conoce como la variable dependiente o etiqueta. En el dataset de diabetes, esta variable está representada en el vector y.\n",
    "\n",
    "Por lo tanto, para cada instancia en la matriz X, el valor correspondiente en el vector y es la etiqueta asociada a esa instancia, es decir, la medida cuantitativa de la progresión de la enfermedad de la diabetes para esa instancia en particular.\n",
    "\n",
    "En resumen, el vector y contiene las etiquetas o valores objetivo que queremos predecir o modelar en función de las características proporcionadas en la matriz X.\n",
    "\n",
    "## raw = X[:, None, 2]:\n",
    "\n",
    "2. En esta línea, se realiza una operación de indexación en el array X para seleccionar una columna específica.\n",
    "\n",
    "* **X[:, None, 2]** realiza una indexación de Numpy con los siguientes argumentos:\n",
    "\n",
    "1. **:** Selecciona todas las filas del array X.\n",
    "\n",
    "2. **None:** Agrega una dimensión adicional al array X. Esto es necesario porque el array X es unidimensional y necesitamos convertirlo a un formato bidimensional para realizar la indexación en la siguiente parte. Transformación del arreglo [newaxis](https://numpy.org/doc/stable/reference/constants.html#numpy.newaxis)\n",
    "\n",
    "3. **2:** Selecciona la columna con índice 2 del array X. Aquí, se asume que la columna 2 contiene la característica específica de interés en el dataset de diabetes.\n",
    "\n",
    "* La operación de indexación devuelve un nuevo array, que se asigna a la variable raw. El nuevo array raw contendrá únicamente la columna seleccionada del dataset original.\n",
    "\n",
    "* **En resumen, estas líneas de código cargan el dataset de diabetes y extraen una columna específica (la columna 2) para su posterior procesamiento o análisis.**"
   ]
  },
  {
   "cell_type": "code",
   "execution_count": 4,
   "metadata": {},
   "outputs": [
    {
     "data": {
      "text/plain": [
       "array([[ 0.03807591,  0.05068012,  0.06169621, ..., -0.00259226,\n",
       "         0.01990749, -0.01764613],\n",
       "       [-0.00188202, -0.04464164, -0.05147406, ..., -0.03949338,\n",
       "        -0.06833155, -0.09220405],\n",
       "       [ 0.08529891,  0.05068012,  0.04445121, ..., -0.00259226,\n",
       "         0.00286131, -0.02593034],\n",
       "       ...,\n",
       "       [ 0.04170844,  0.05068012, -0.01590626, ..., -0.01107952,\n",
       "        -0.04688253,  0.01549073],\n",
       "       [-0.04547248, -0.04464164,  0.03906215, ...,  0.02655962,\n",
       "         0.04452873, -0.02593034],\n",
       "       [-0.04547248, -0.04464164, -0.0730303 , ..., -0.03949338,\n",
       "        -0.00422151,  0.00306441]])"
      ]
     },
     "execution_count": 4,
     "metadata": {},
     "output_type": "execute_result"
    }
   ],
   "source": [
    "X"
   ]
  },
  {
   "cell_type": "code",
   "execution_count": 6,
   "metadata": {},
   "outputs": [
    {
     "data": {
      "text/plain": [
       "array([[ 0.06169621],\n",
       "       [-0.05147406],\n",
       "       [ 0.04445121],\n",
       "       [-0.01159501],\n",
       "       [-0.03638469],\n",
       "       [-0.04069594],\n",
       "       [-0.04716281],\n",
       "       [-0.00189471],\n",
       "       [ 0.06169621],\n",
       "       [ 0.03906215],\n",
       "       [-0.08380842],\n",
       "       [ 0.01750591],\n",
       "       [-0.02884001],\n",
       "       [-0.00189471],\n",
       "       [-0.02560657],\n",
       "       [-0.01806189],\n",
       "       [ 0.04229559],\n",
       "       [ 0.01211685],\n",
       "       [-0.0105172 ],\n",
       "       [-0.01806189],\n",
       "       [-0.05686312],\n",
       "       [-0.02237314],\n",
       "       [-0.00405033],\n",
       "       [ 0.06061839],\n",
       "       [ 0.03582872],\n",
       "       [-0.01267283],\n",
       "       [-0.07734155],\n",
       "       [ 0.05954058],\n",
       "       [-0.02129532],\n",
       "       [-0.00620595],\n",
       "       [ 0.04445121],\n",
       "       [-0.06548562],\n",
       "       [ 0.12528712],\n",
       "       [-0.05039625],\n",
       "       [-0.06332999],\n",
       "       [-0.03099563],\n",
       "       [ 0.02289497],\n",
       "       [ 0.01103904],\n",
       "       [ 0.07139652],\n",
       "       [ 0.01427248],\n",
       "       [-0.00836158],\n",
       "       [-0.06764124],\n",
       "       [-0.0105172 ],\n",
       "       [-0.02345095],\n",
       "       [ 0.06816308],\n",
       "       [-0.03530688],\n",
       "       [-0.01159501],\n",
       "       [-0.0730303 ],\n",
       "       [-0.04177375],\n",
       "       [ 0.01427248],\n",
       "       [-0.00728377],\n",
       "       [ 0.0164281 ],\n",
       "       [-0.00943939],\n",
       "       [-0.01590626],\n",
       "       [ 0.0250506 ],\n",
       "       [-0.04931844],\n",
       "       [ 0.04121778],\n",
       "       [-0.06332999],\n",
       "       [-0.06440781],\n",
       "       [-0.02560657],\n",
       "       [-0.00405033],\n",
       "       [ 0.00457217],\n",
       "       [-0.00728377],\n",
       "       [-0.0374625 ],\n",
       "       [-0.02560657],\n",
       "       [-0.02452876],\n",
       "       [-0.01806189],\n",
       "       [-0.01482845],\n",
       "       [-0.02991782],\n",
       "       [-0.046085  ],\n",
       "       [-0.06979687],\n",
       "       [ 0.03367309],\n",
       "       [-0.00405033],\n",
       "       [-0.02021751],\n",
       "       [ 0.00241654],\n",
       "       [-0.03099563],\n",
       "       [ 0.02828403],\n",
       "       [-0.03638469],\n",
       "       [-0.05794093],\n",
       "       [-0.0374625 ],\n",
       "       [ 0.01211685],\n",
       "       [-0.02237314],\n",
       "       [-0.03530688],\n",
       "       [ 0.00996123],\n",
       "       [-0.03961813],\n",
       "       [ 0.07139652],\n",
       "       [-0.07518593],\n",
       "       [-0.00620595],\n",
       "       [-0.04069594],\n",
       "       [-0.04824063],\n",
       "       [-0.02560657],\n",
       "       [ 0.0519959 ],\n",
       "       [ 0.00457217],\n",
       "       [-0.06440781],\n",
       "       [-0.01698407],\n",
       "       [-0.05794093],\n",
       "       [ 0.00996123],\n",
       "       [ 0.08864151],\n",
       "       [-0.00512814],\n",
       "       [-0.06440781],\n",
       "       [ 0.01750591],\n",
       "       [-0.04500719],\n",
       "       [ 0.02828403],\n",
       "       [ 0.04121778],\n",
       "       [ 0.06492964],\n",
       "       [-0.03207344],\n",
       "       [-0.07626374],\n",
       "       [ 0.04984027],\n",
       "       [ 0.04552903],\n",
       "       [-0.00943939],\n",
       "       [-0.03207344],\n",
       "       [ 0.00457217],\n",
       "       [ 0.02073935],\n",
       "       [ 0.01427248],\n",
       "       [ 0.11019775],\n",
       "       [ 0.00133873],\n",
       "       [ 0.05846277],\n",
       "       [-0.02129532],\n",
       "       [-0.0105172 ],\n",
       "       [-0.04716281],\n",
       "       [ 0.00457217],\n",
       "       [ 0.01750591],\n",
       "       [ 0.08109682],\n",
       "       [ 0.0347509 ],\n",
       "       [ 0.02397278],\n",
       "       [-0.00836158],\n",
       "       [-0.06117437],\n",
       "       [-0.00189471],\n",
       "       [-0.06225218],\n",
       "       [ 0.0164281 ],\n",
       "       [ 0.09618619],\n",
       "       [-0.06979687],\n",
       "       [-0.02129532],\n",
       "       [-0.05362969],\n",
       "       [ 0.0433734 ],\n",
       "       [ 0.05630715],\n",
       "       [-0.0816528 ],\n",
       "       [ 0.04984027],\n",
       "       [ 0.11127556],\n",
       "       [ 0.06169621],\n",
       "       [ 0.01427248],\n",
       "       [ 0.04768465],\n",
       "       [ 0.01211685],\n",
       "       [ 0.00564998],\n",
       "       [ 0.04660684],\n",
       "       [ 0.12852056],\n",
       "       [ 0.05954058],\n",
       "       [ 0.09295276],\n",
       "       [ 0.01535029],\n",
       "       [-0.00512814],\n",
       "       [ 0.0703187 ],\n",
       "       [-0.00405033],\n",
       "       [-0.00081689],\n",
       "       [-0.04392938],\n",
       "       [ 0.02073935],\n",
       "       [ 0.06061839],\n",
       "       [-0.0105172 ],\n",
       "       [-0.03315126],\n",
       "       [-0.06548562],\n",
       "       [ 0.0433734 ],\n",
       "       [-0.06225218],\n",
       "       [ 0.06385183],\n",
       "       [ 0.03043966],\n",
       "       [ 0.07247433],\n",
       "       [-0.0191397 ],\n",
       "       [-0.06656343],\n",
       "       [-0.06009656],\n",
       "       [ 0.06924089],\n",
       "       [ 0.05954058],\n",
       "       [-0.02668438],\n",
       "       [-0.02021751],\n",
       "       [-0.046085  ],\n",
       "       [ 0.07139652],\n",
       "       [-0.07949718],\n",
       "       [ 0.00996123],\n",
       "       [-0.03854032],\n",
       "       [ 0.01966154],\n",
       "       [ 0.02720622],\n",
       "       [-0.00836158],\n",
       "       [-0.01590626],\n",
       "       [ 0.00457217],\n",
       "       [-0.04285156],\n",
       "       [ 0.00564998],\n",
       "       [-0.03530688],\n",
       "       [ 0.02397278],\n",
       "       [-0.01806189],\n",
       "       [ 0.04229559],\n",
       "       [-0.0547075 ],\n",
       "       [-0.00297252],\n",
       "       [-0.06656343],\n",
       "       [-0.01267283],\n",
       "       [-0.04177375],\n",
       "       [-0.03099563],\n",
       "       [-0.00512814],\n",
       "       [-0.05901875],\n",
       "       [ 0.0250506 ],\n",
       "       [-0.046085  ],\n",
       "       [ 0.00349435],\n",
       "       [ 0.05415152],\n",
       "       [-0.04500719],\n",
       "       [-0.05794093],\n",
       "       [-0.05578531],\n",
       "       [ 0.00133873],\n",
       "       [ 0.03043966],\n",
       "       [ 0.00672779],\n",
       "       [ 0.04660684],\n",
       "       [ 0.02612841],\n",
       "       [ 0.04552903],\n",
       "       [ 0.04013997],\n",
       "       [-0.01806189],\n",
       "       [ 0.01427248],\n",
       "       [ 0.03690653],\n",
       "       [ 0.00349435],\n",
       "       [-0.07087468],\n",
       "       [-0.03315126],\n",
       "       [ 0.09403057],\n",
       "       [ 0.03582872],\n",
       "       [ 0.03151747],\n",
       "       [-0.06548562],\n",
       "       [-0.04177375],\n",
       "       [-0.03961813],\n",
       "       [-0.03854032],\n",
       "       [-0.02560657],\n",
       "       [-0.02345095],\n",
       "       [-0.06656343],\n",
       "       [ 0.03259528],\n",
       "       [-0.046085  ],\n",
       "       [-0.02991782],\n",
       "       [-0.01267283],\n",
       "       [-0.01590626],\n",
       "       [ 0.07139652],\n",
       "       [-0.03099563],\n",
       "       [ 0.00026092],\n",
       "       [ 0.03690653],\n",
       "       [ 0.03906215],\n",
       "       [-0.01482845],\n",
       "       [ 0.00672779],\n",
       "       [-0.06871905],\n",
       "       [-0.00943939],\n",
       "       [ 0.01966154],\n",
       "       [ 0.07462995],\n",
       "       [-0.00836158],\n",
       "       [-0.02345095],\n",
       "       [-0.046085  ],\n",
       "       [ 0.05415152],\n",
       "       [-0.03530688],\n",
       "       [-0.03207344],\n",
       "       [-0.0816528 ],\n",
       "       [ 0.04768465],\n",
       "       [ 0.06061839],\n",
       "       [ 0.05630715],\n",
       "       [ 0.09834182],\n",
       "       [ 0.05954058],\n",
       "       [ 0.03367309],\n",
       "       [ 0.05630715],\n",
       "       [-0.06548562],\n",
       "       [ 0.16085492],\n",
       "       [-0.05578531],\n",
       "       [-0.02452876],\n",
       "       [-0.03638469],\n",
       "       [-0.00836158],\n",
       "       [-0.04177375],\n",
       "       [ 0.12744274],\n",
       "       [-0.07734155],\n",
       "       [ 0.02828403],\n",
       "       [-0.02560657],\n",
       "       [-0.06225218],\n",
       "       [-0.00081689],\n",
       "       [ 0.08864151],\n",
       "       [-0.03207344],\n",
       "       [ 0.03043966],\n",
       "       [ 0.00888341],\n",
       "       [ 0.00672779],\n",
       "       [-0.02021751],\n",
       "       [-0.02452876],\n",
       "       [-0.01159501],\n",
       "       [ 0.02612841],\n",
       "       [-0.05901875],\n",
       "       [-0.03638469],\n",
       "       [-0.02452876],\n",
       "       [ 0.01858372],\n",
       "       [-0.0902753 ],\n",
       "       [-0.00512814],\n",
       "       [-0.05255187],\n",
       "       [-0.02237314],\n",
       "       [-0.02021751],\n",
       "       [-0.0547075 ],\n",
       "       [-0.00620595],\n",
       "       [-0.01698407],\n",
       "       [ 0.05522933],\n",
       "       [ 0.07678558],\n",
       "       [ 0.01858372],\n",
       "       [-0.02237314],\n",
       "       [ 0.09295276],\n",
       "       [-0.03099563],\n",
       "       [ 0.03906215],\n",
       "       [-0.06117437],\n",
       "       [-0.00836158],\n",
       "       [-0.0374625 ],\n",
       "       [-0.01375064],\n",
       "       [ 0.07355214],\n",
       "       [-0.02452876],\n",
       "       [ 0.03367309],\n",
       "       [ 0.0347509 ],\n",
       "       [-0.03854032],\n",
       "       [-0.03961813],\n",
       "       [-0.00189471],\n",
       "       [-0.03099563],\n",
       "       [-0.046085  ],\n",
       "       [ 0.00133873],\n",
       "       [ 0.06492964],\n",
       "       [ 0.04013997],\n",
       "       [-0.02345095],\n",
       "       [ 0.05307371],\n",
       "       [ 0.04013997],\n",
       "       [-0.02021751],\n",
       "       [ 0.01427248],\n",
       "       [-0.03422907],\n",
       "       [ 0.00672779],\n",
       "       [ 0.00457217],\n",
       "       [ 0.03043966],\n",
       "       [ 0.0519959 ],\n",
       "       [ 0.06169621],\n",
       "       [-0.00728377],\n",
       "       [ 0.00564998],\n",
       "       [ 0.05415152],\n",
       "       [-0.00836158],\n",
       "       [ 0.114509  ],\n",
       "       [ 0.06708527],\n",
       "       [-0.05578531],\n",
       "       [ 0.03043966],\n",
       "       [-0.02560657],\n",
       "       [ 0.10480869],\n",
       "       [-0.00620595],\n",
       "       [-0.04716281],\n",
       "       [-0.04824063],\n",
       "       [ 0.08540807],\n",
       "       [-0.01267283],\n",
       "       [-0.03315126],\n",
       "       [-0.00728377],\n",
       "       [-0.01375064],\n",
       "       [ 0.05954058],\n",
       "       [ 0.02181716],\n",
       "       [ 0.01858372],\n",
       "       [-0.01159501],\n",
       "       [-0.00297252],\n",
       "       [ 0.01750591],\n",
       "       [-0.02991782],\n",
       "       [-0.02021751],\n",
       "       [-0.05794093],\n",
       "       [ 0.06061839],\n",
       "       [-0.04069594],\n",
       "       [-0.07195249],\n",
       "       [-0.05578531],\n",
       "       [ 0.04552903],\n",
       "       [-0.00943939],\n",
       "       [-0.03315126],\n",
       "       [ 0.04984027],\n",
       "       [-0.08488624],\n",
       "       [ 0.00564998],\n",
       "       [ 0.02073935],\n",
       "       [-0.00728377],\n",
       "       [ 0.10480869],\n",
       "       [-0.02452876],\n",
       "       [-0.00620595],\n",
       "       [-0.03854032],\n",
       "       [ 0.13714305],\n",
       "       [ 0.17055523],\n",
       "       [ 0.00241654],\n",
       "       [ 0.03798434],\n",
       "       [-0.05794093],\n",
       "       [-0.00943939],\n",
       "       [-0.02345095],\n",
       "       [-0.0105172 ],\n",
       "       [-0.03422907],\n",
       "       [-0.00297252],\n",
       "       [ 0.06816308],\n",
       "       [ 0.00996123],\n",
       "       [ 0.00241654],\n",
       "       [-0.03854032],\n",
       "       [ 0.02612841],\n",
       "       [-0.08919748],\n",
       "       [ 0.06061839],\n",
       "       [-0.02884001],\n",
       "       [-0.02991782],\n",
       "       [-0.0191397 ],\n",
       "       [-0.04069594],\n",
       "       [ 0.01535029],\n",
       "       [-0.02452876],\n",
       "       [ 0.00133873],\n",
       "       [ 0.06924089],\n",
       "       [-0.06979687],\n",
       "       [-0.02991782],\n",
       "       [-0.046085  ],\n",
       "       [ 0.01858372],\n",
       "       [ 0.00133873],\n",
       "       [-0.03099563],\n",
       "       [-0.00405033],\n",
       "       [ 0.01535029],\n",
       "       [ 0.02289497],\n",
       "       [ 0.04552903],\n",
       "       [-0.04500719],\n",
       "       [-0.03315126],\n",
       "       [ 0.097264  ],\n",
       "       [ 0.05415152],\n",
       "       [ 0.12313149],\n",
       "       [-0.08057499],\n",
       "       [ 0.09295276],\n",
       "       [-0.05039625],\n",
       "       [-0.01159501],\n",
       "       [-0.0277622 ],\n",
       "       [ 0.05846277],\n",
       "       [ 0.08540807],\n",
       "       [-0.00081689],\n",
       "       [ 0.00672779],\n",
       "       [ 0.00888341],\n",
       "       [ 0.08001901],\n",
       "       [ 0.07139652],\n",
       "       [-0.02452876],\n",
       "       [-0.0547075 ],\n",
       "       [-0.03638469],\n",
       "       [ 0.0164281 ],\n",
       "       [ 0.07786339],\n",
       "       [-0.03961813],\n",
       "       [ 0.01103904],\n",
       "       [-0.04069594],\n",
       "       [-0.03422907],\n",
       "       [ 0.00564998],\n",
       "       [ 0.08864151],\n",
       "       [-0.03315126],\n",
       "       [-0.05686312],\n",
       "       [-0.03099563],\n",
       "       [ 0.05522933],\n",
       "       [-0.06009656],\n",
       "       [ 0.00133873],\n",
       "       [-0.02345095],\n",
       "       [-0.07410811],\n",
       "       [ 0.01966154],\n",
       "       [-0.01590626],\n",
       "       [-0.01590626],\n",
       "       [ 0.03906215],\n",
       "       [-0.0730303 ]])"
      ]
     },
     "execution_count": 6,
     "metadata": {},
     "output_type": "execute_result"
    }
   ],
   "source": [
    "raw\n"
   ]
  },
  {
   "cell_type": "markdown",
   "metadata": {
    "cell_id": "00001-de96f906-18e2-433d-98c3-2a6675f1ddf9",
    "deepnote_cell_type": "markdown",
    "tags": []
   },
   "source": [
    "### <a name=\"mark_04.0\"></a>Escalamiento max-min ejemplo\n",
    "\n",
    "[Index](#index)\n",
    "\n",
    "Detalles del dataset: https://scikit-learn.org/stable/modules/generated/sklearn.datasets.load_diabetes.html"
   ]
  },
  {
   "cell_type": "code",
   "execution_count": 3,
   "metadata": {},
   "outputs": [],
   "source": [
    "# escalamiento max-min\n",
    "max_raw = max(raw)\n",
    "min_raw = min(raw)\n",
    "scaled = (2*raw - max_raw -min_raw)/(max_raw - min_raw)"
   ]
  },
  {
   "cell_type": "code",
   "execution_count": 24,
   "metadata": {},
   "outputs": [
    {
     "data": {
      "text/plain": [
       "Text(0.5, 1.0, 'raw data')"
      ]
     },
     "execution_count": 24,
     "metadata": {},
     "output_type": "execute_result"
    },
    {
     "data": {
      "image/png": "[encoded data removed]",
      "text/plain": [
       "<Figure size 640x480 with 1 Axes>"
      ]
     },
     "metadata": {},
     "output_type": "display_data"
    }
   ],
   "source": [
    "import seaborn as sns\n",
    "sns.set(style='darkgrid', palette='dark', font_scale=0.8)\n",
    "sns.histplot(data=raw, kde=True)\n",
    "plt.title('raw data')"
   ]
  },
  {
   "cell_type": "code",
   "execution_count": 23,
   "metadata": {},
   "outputs": [
    {
     "data": {
      "text/plain": [
       "Text(0.5, 1.0, 'scaled data')"
      ]
     },
     "execution_count": 23,
     "metadata": {},
     "output_type": "execute_result"
    },
    {
     "data": {
      "image/png": "[encoded data removed]",
      "text/plain": [
       "<Figure size 640x480 with 1 Axes>"
      ]
     },
     "metadata": {},
     "output_type": "display_data"
    }
   ],
   "source": [
    "sns.set(style='darkgrid', palette='dark', font_scale=0.8)\n",
    "sns.histplot(data=scaled, kde=True)\n",
    "plt.title('scaled data')"
   ]
  },
  {
   "cell_type": "markdown",
   "metadata": {},
   "source": [
    "### <a name=\"mark_04.1\"></a>Escalamiento z-score.\n",
    "\n",
    "[Index](#index)"
   ]
  },
  {
   "cell_type": "code",
   "execution_count": 27,
   "metadata": {
    "cell_id": "00001-7b52d2b4-5e9d-4d35-a045-d3697bd31a44",
    "deepnote_cell_type": "code",
    "deepnote_to_be_reexecuted": false,
    "execution_millis": 595,
    "execution_start": 1622484985003,
    "output_cleared": false,
    "source_hash": "4c236db0",
    "tags": []
   },
   "outputs": [
    {
     "data": {
      "text/plain": [
       "(array([32., 66., 98., 90., 61., 53., 23., 12.,  5.,  2.]),\n",
       " array([-1.89792941, -1.34956464, -0.80119987, -0.2528351 ,  0.29552967,\n",
       "         0.84389444,  1.39225921,  1.94062398,  2.48898875,  3.03735352,\n",
       "         3.58571828]),\n",
       " <BarContainer object of 10 artists>)"
      ]
     },
     "execution_count": 27,
     "metadata": {},
     "output_type": "execute_result"
    },
    {
     "data": {
      "image/png": "[encoded data removed]",
      "text/plain": [
       "<Figure size 640x480 with 3 Axes>"
      ]
     },
     "metadata": {},
     "output_type": "display_data"
    }
   ],
   "source": [
    "# normalización Z-score\n",
    "avg = np.average(raw)\n",
    "std = np.std(raw)\n",
    "z_scaled = (raw - avg)/std\n",
    "\n",
    "fig, axs = plt.subplots(3, 1, sharex=True, tight_layout=True) #\"sharex\" permite compartir eje x.\n",
    "\n",
    "axs[0].hist(raw)\n",
    "axs[1].hist(scaled)\n",
    "axs[2].hist(z_scaled)"
   ]
  },
  {
   "cell_type": "code",
   "execution_count": null,
   "metadata": {
    "cell_id": "00002-a231b2cb-c0fa-43ef-a3e5-283ee2343e48",
    "deepnote_cell_type": "code",
    "deepnote_to_be_reexecuted": false,
    "execution_millis": 1,
    "execution_start": 1622485022773,
    "source_hash": "8d13a080",
    "tags": []
   },
   "outputs": [],
   "source": [
    "# modelos para entrenamiento\n",
    "def train_raw():\n",
    "    linear_model.LinearRegression().fit(raw, y)\n",
    "\n",
    "def train_scaled():\n",
    "    linear_model.LinearRegression().fit(scaled, y)\n",
    "\n",
    "def train_z_scaled():\n",
    "    linear_model.LinearRegression().fit(z_scaled, y)"
   ]
  },
  {
   "cell_type": "code",
   "execution_count": null,
   "metadata": {
    "cell_id": "00004-95df3b96-b7bf-4957-9030-aee0179e31dd",
    "deepnote_cell_type": "code",
    "deepnote_to_be_reexecuted": false,
    "execution_millis": 1,
    "execution_start": 1622485024560,
    "output_cleared": false,
    "source_hash": "6dc73673",
    "tags": []
   },
   "outputs": [
    {
     "name": "stdout",
     "output_type": "stream",
     "text": [
      "trainning time for raw data : 0.07451489300001413 \n",
      "trainning time for scaled data : 0.06742551799834473\n",
      "trainning time for z_scaled data : 0.06812811800045893\n"
     ]
    }
   ],
   "source": [
    "#Calculando la performance del modelo con cada dataset.\n",
    "raw_time = timeit.timeit(train_raw, number = 100)\n",
    "scaled_time = timeit.timeit(train_raw, number = 100)\n",
    "z_scaled_time = timeit.timeit(train_raw, number = 100)\n",
    "print('trainning time for raw data : {} '.format(raw_time))\n",
    "print('trainning time for scaled data : {}'.format(scaled_time))\n",
    "print('trainning time for z_scaled data : {}'.format(z_scaled_time))\n",
    "\n",
    "#Nota: \"number = 100\" repite la ejecución de snippet code 100 veces."
   ]
  },
  {
   "cell_type": "markdown",
   "metadata": {
    "cell_id": "00006-39c52400-be54-4471-a6c6-e0bebbd7a48f",
    "deepnote_cell_type": "markdown",
    "tags": []
   },
   "source": [
    "* max-min scaling: mejor para datos uniformemente distribuidos\n",
    "* z-score scaling: mejor para datos distribuidos \"normalmente\" (forma de campana de gauss)"
   ]
  },
  {
   "cell_type": "markdown",
   "metadata": {
    "cell_id": "00006-3645f92d-c7c3-4f2c-8ff6-19b158f1e589",
    "deepnote_cell_type": "markdown",
    "tags": []
   },
   "source": [
    "Utilidades de Scikit Learn : https://scikit-learn.org/stable/modules/preprocessing.html"
   ]
  },
  {
   "cell_type": "markdown",
   "metadata": {
    "cell_id": "00009-8f892a43-fc2d-4765-9df6-220b21698953",
    "deepnote_cell_type": "markdown",
    "tags": []
   },
   "source": [
    "### <a name=\"mark_05\"></a>Transformaciones No Lineales\n",
    "[Index](#index)\n",
    "\n",
    "El escalamiento no lineal, también conocido como transformación no lineal, es una técnica utilizada para ajustar los valores de un conjunto de datos a una escala diferente utilizando una función no lineal. A diferencia del escalamiento lineal, que ajusta los valores proporcionalmente en relación con un rango determinado, el escalamiento no lineal aplica una transformación no lineal a los datos para redistribuirlos de una manera específica.\n",
    "\n",
    "El escalamiento no lineal se utiliza comúnmente cuando los datos no siguen una distribución lineal o cuando se desea resaltar ciertos patrones o características en los datos. Al aplicar una transformación no lineal, es posible comprimir o expandir ciertos rangos de valores, resaltar valores atípicos o alterar la distribución de los datos para adaptarlos a un requisito específico.\n",
    "\n",
    "Algunas de las técnicas comunes utilizadas en el escalamiento no lineal incluyen la transformación logarítmica, la transformación exponencial, la transformación de raíz cuadrada y la transformación de Box-Cox. Estas transformaciones aplican funciones matemáticas no lineales a los datos para ajustar su distribución de acuerdo con ciertas propiedades deseadas.\n",
    "\n",
    "Es importante destacar que el escalamiento no lineal puede alterar la interpretación y relación de los datos originales, por lo que debe usarse con precaución y considerando el objetivo específico del análisis."
   ]
  },
  {
   "cell_type": "markdown",
   "metadata": {},
   "source": [
    "### <a name=\"mark_06\"></a> Distintos tipos de escalamientos no lineales y sus características.\n",
    "[Index](#index)\n",
    "\n",
    "Existen varios tipos de escalamientos no lineales que se utilizan para ajustar la escala de los datos de manera no proporcional. A continuación, explicaré algunos de los tipos más comunes junto con sus fórmulas correspondientes:\n",
    "\n",
    "1. Escalamiento Logarítmico:\n",
    "   - Fórmula: X' = log(X)\n",
    "   - Aplicación: Se utiliza cuando los datos tienen una distribución sesgada hacia valores más altos y se desea reducir la amplitud de la escala de esos valores. También es útil cuando se desea resaltar pequeñas variaciones en valores más grandes.\n",
    "\n",
    "2. Escalamiento Exponencial:\n",
    "   - Fórmula: X' = exp(X)\n",
    "   - Aplicación: Se utiliza para amplificar los valores más pequeños y resaltar diferencias en la parte inferior de la escala. También puede ser útil cuando se desea transformar datos negativos en valores positivos.\n",
    "\n",
    "3. Escalamiento Raíz Cuadrada:\n",
    "   - Fórmula: X' = sqrt(X)\n",
    "   - Aplicación: Se utiliza para reducir la amplitud de valores más altos y resaltar diferencias en valores más bajos. También puede ser útil cuando los datos tienen una distribución sesgada hacia valores más bajos.\n",
    "\n",
    "4. Transformación de Box-Cox:\n",
    "   - Fórmula: X' = (X^λ - 1) / λ, donde λ es el parámetro de la transformación.\n",
    "   - Aplicación: La transformación de Box-Cox es una familia de transformaciones que se utiliza para encontrar una función óptima que ajuste los datos a una distribución normal o aproximadamente normal. La transformación se aplica encontrando el valor óptimo de λ que maximice la similitud con una distribución normal.\n",
    "\n",
    "Estas son solo algunas de las transformaciones no lineales comunes utilizadas en el escalamiento no lineal. La elección de la transformación adecuada depende del tipo de datos, la distribución original y el objetivo del análisis. Es importante realizar pruebas y evaluaciones para determinar cuál es la transformación más apropiada para los datos específicos."
   ]
  },
  {
   "cell_type": "code",
   "execution_count": 39,
   "metadata": {
    "cell_id": "00010-c3f4aea0-11c5-41b0-9d6d-db691ef3fe1c",
    "deepnote_cell_type": "code",
    "deepnote_to_be_reexecuted": false,
    "execution_millis": 139,
    "execution_start": 1622485028352,
    "source_hash": "f2d578bb",
    "tags": []
   },
   "outputs": [],
   "source": [
    "df = pd.read_csv('cars.csv')"
   ]
  },
  {
   "cell_type": "code",
   "execution_count": 40,
   "metadata": {
    "cell_id": "00011-2eb046f6-9ec1-4791-a79a-c7b651c4d276",
    "deepnote_cell_type": "code",
    "deepnote_to_be_reexecuted": false,
    "execution_millis": 263,
    "execution_start": 1622485028869,
    "output_cleared": false,
    "source_hash": "1d9343bd",
    "tags": []
   },
   "outputs": [
    {
     "data": {
      "text/plain": [
       "<Axes: >"
      ]
     },
     "execution_count": 40,
     "metadata": {},
     "output_type": "execute_result"
    },
    {
     "data": {
      "image/png": "[encoded data removed]",
      "text/plain": [
       "<Figure size 640x480 with 1 Axes>"
      ]
     },
     "metadata": {},
     "output_type": "display_data"
    }
   ],
   "source": [
    "df.price_usd.hist()"
   ]
  },
  {
   "cell_type": "markdown",
   "metadata": {
    "cell_id": "00012-e7d44a5d-9df4-41fb-a0d9-d1467e02f7c5",
    "deepnote_cell_type": "markdown",
    "tags": []
   },
   "source": [
    "Transformación con $$tanh(x)$$"
   ]
  },
  {
   "cell_type": "code",
   "execution_count": 41,
   "metadata": {
    "cell_id": "00012-4d7c01b7-67e1-4528-83b8-53f72c22bd71",
    "deepnote_cell_type": "code",
    "deepnote_to_be_reexecuted": false,
    "execution_millis": 277,
    "execution_start": 1622485031705,
    "output_cleared": false,
    "source_hash": "45297aa3",
    "tags": []
   },
   "outputs": [
    {
     "data": {
      "text/plain": [
       "<Axes: >"
      ]
     },
     "execution_count": 41,
     "metadata": {},
     "output_type": "execute_result"
    },
    {
     "data": {
      "image/png": "[encoded data removed]",
      "text/plain": [
       "<Figure size 640x480 with 1 Axes>"
      ]
     },
     "metadata": {},
     "output_type": "display_data"
    }
   ],
   "source": [
    "p = 10000\n",
    "df.price_usd.apply(lambda x: np.tanh(x/p)).hist(bins=50)"
   ]
  },
  {
   "cell_type": "code",
   "execution_count": 43,
   "metadata": {},
   "outputs": [
    {
     "data": {
      "text/plain": [
       "<Axes: >"
      ]
     },
     "execution_count": 43,
     "metadata": {},
     "output_type": "execute_result"
    },
    {
     "data": {
      "image/png": "[encoded data removed]",
      "text/plain": [
       "<Figure size 640x480 with 1 Axes>"
      ]
     },
     "metadata": {},
     "output_type": "display_data"
    }
   ],
   "source": [
    "df.price_usd.apply(lambda x: np.log(x)).hist(bins=50)"
   ]
  },
  {
   "cell_type": "markdown",
   "metadata": {
    "cell_id": "00014-043435bf-21c9-4ffc-9036-2a1dd7b298ee",
    "deepnote_cell_type": "markdown",
    "tags": []
   },
   "source": [
    "* mapear datos a una distribucion gaussiana: https://scikit-learn.org/stable/auto_examples/preprocessing/plot_map_data_to_normal.html#sphx-glr-auto-examples-preprocessing-plot-map-data-to-normal-py"
   ]
  },
  {
   "cell_type": "code",
   "execution_count": 36,
   "metadata": {},
   "outputs": [
    {
     "data": {
      "image/png": "[encoded data removed]",
      "text/plain": [
       "<Figure size 400x800 with 24 Axes>"
      ]
     },
     "metadata": {},
     "output_type": "display_data"
    }
   ],
   "source": [
    "import numpy as np\n",
    "import matplotlib.pyplot as plt\n",
    "\n",
    "from sklearn.preprocessing import PowerTransformer\n",
    "from sklearn.preprocessing import QuantileTransformer\n",
    "from sklearn.model_selection import train_test_split\n",
    "\n",
    "\n",
    "N_SAMPLES = 1000\n",
    "FONT_SIZE = 6\n",
    "BINS = 30\n",
    "\n",
    "\n",
    "rng = np.random.RandomState(304)\n",
    "bc = PowerTransformer(method=\"box-cox\")\n",
    "yj = PowerTransformer(method=\"yeo-johnson\")\n",
    "# n_quantiles is set to the training set size rather than the default value\n",
    "# to avoid a warning being raised by this example\n",
    "qt = QuantileTransformer(\n",
    "    n_quantiles=500, output_distribution=\"normal\", random_state=rng\n",
    ")\n",
    "size = (N_SAMPLES, 1)\n",
    "\n",
    "\n",
    "# lognormal distribution\n",
    "X_lognormal = rng.lognormal(size=size)\n",
    "\n",
    "# chi-squared distribution\n",
    "df = 3\n",
    "X_chisq = rng.chisquare(df=df, size=size)\n",
    "\n",
    "# weibull distribution\n",
    "a = 50\n",
    "X_weibull = rng.weibull(a=a, size=size)\n",
    "\n",
    "# gaussian distribution\n",
    "loc = 100\n",
    "X_gaussian = rng.normal(loc=loc, size=size)\n",
    "\n",
    "# uniform distribution\n",
    "X_uniform = rng.uniform(low=0, high=1, size=size)\n",
    "\n",
    "# bimodal distribution\n",
    "loc_a, loc_b = 100, 105\n",
    "X_a, X_b = rng.normal(loc=loc_a, size=size), rng.normal(loc=loc_b, size=size)\n",
    "X_bimodal = np.concatenate([X_a, X_b], axis=0)\n",
    "\n",
    "\n",
    "# create plots\n",
    "distributions = [\n",
    "    (\"Lognormal\", X_lognormal),\n",
    "    (\"Chi-squared\", X_chisq),\n",
    "    (\"Weibull\", X_weibull),\n",
    "    (\"Gaussian\", X_gaussian),\n",
    "    (\"Uniform\", X_uniform),\n",
    "    (\"Bimodal\", X_bimodal),\n",
    "]\n",
    "\n",
    "colors = [\"#D81B60\", \"#0188FF\", \"#FFC107\", \"#B7A2FF\", \"#000000\", \"#2EC5AC\"]\n",
    "\n",
    "fig, axes = plt.subplots(nrows=8, ncols=3, figsize=plt.figaspect(2))\n",
    "axes = axes.flatten()\n",
    "axes_idxs = [\n",
    "    (0, 3, 6, 9),\n",
    "    (1, 4, 7, 10),\n",
    "    (2, 5, 8, 11),\n",
    "    (12, 15, 18, 21),\n",
    "    (13, 16, 19, 22),\n",
    "    (14, 17, 20, 23),\n",
    "]\n",
    "axes_list = [(axes[i], axes[j], axes[k], axes[l]) for (i, j, k, l) in axes_idxs]\n",
    "\n",
    "\n",
    "for distribution, color, axes in zip(distributions, colors, axes_list):\n",
    "    name, X = distribution\n",
    "    X_train, X_test = train_test_split(X, test_size=0.5)\n",
    "\n",
    "    # perform power transforms and quantile transform\n",
    "    X_trans_bc = bc.fit(X_train).transform(X_test)\n",
    "    lmbda_bc = round(bc.lambdas_[0], 2)\n",
    "    X_trans_yj = yj.fit(X_train).transform(X_test)\n",
    "    lmbda_yj = round(yj.lambdas_[0], 2)\n",
    "    X_trans_qt = qt.fit(X_train).transform(X_test)\n",
    "\n",
    "    ax_original, ax_bc, ax_yj, ax_qt = axes\n",
    "\n",
    "    ax_original.hist(X_train, color=color, bins=BINS)\n",
    "    ax_original.set_title(name, fontsize=FONT_SIZE)\n",
    "    ax_original.tick_params(axis=\"both\", which=\"major\", labelsize=FONT_SIZE)\n",
    "\n",
    "    for ax, X_trans, meth_name, lmbda in zip(\n",
    "        (ax_bc, ax_yj, ax_qt),\n",
    "        (X_trans_bc, X_trans_yj, X_trans_qt),\n",
    "        (\"Box-Cox\", \"Yeo-Johnson\", \"Quantile transform\"),\n",
    "        (lmbda_bc, lmbda_yj, None),\n",
    "    ):\n",
    "        ax.hist(X_trans, color=color, bins=BINS)\n",
    "        title = \"After {}\".format(meth_name)\n",
    "        if lmbda is not None:\n",
    "            title += \"\\n$\\\\lambda$ = {}\".format(lmbda)\n",
    "        ax.set_title(title, fontsize=FONT_SIZE)\n",
    "        ax.tick_params(axis=\"both\", which=\"major\", labelsize=FONT_SIZE)\n",
    "        ax.set_xlim([-3.5, 3.5])\n",
    "\n",
    "\n",
    "plt.tight_layout()\n",
    "plt.show()"
   ]
  },
  {
   "cell_type": "markdown",
   "metadata": {
    "created_in_deepnote_cell": true,
    "deepnote_cell_type": "markdown",
    "tags": []
   },
   "source": [
    "<a style='text-decoration:none;line-height:16px;display:flex;color:#5B5B62;padding:10px;justify-content:end;' href='https://deepnote.com?utm_source=created-in-deepnote-cell&projectId=3f569948-e9a8-454f-8f4d-a27aa1610a87' target=\"_blank\">\n",
    "<img alt='Created in deepnote.com' style='display:inline;max-height:16px;margin:0px;margin-right:7.5px;' src='data:image/svg+xml;base64,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' > </img>\n",
    "Created in <span style='font-weight:600;margin-left:4px;'>Deepnote</span></a>"
   ]
  }
 ],
 "metadata": {
  "deepnote": {
   "is_reactive": false
  },
  "deepnote_execution_queue": [],
  "deepnote_notebook_id": "dc0e8e2f-767c-4d0a-bdda-fe85e29fb72b",
  "kernelspec": {
   "display_name": "jupyter_kernel_01",
   "language": "python",
   "name": "data_trans_env"
  },
  "language_info": {
   "codemirror_mode": {
    "name": "ipython",
    "version": 3
   },
   "file_extension": ".py",
   "mimetype": "text/x-python",
   "name": "python",
   "nbconvert_exporter": "python",
   "pygments_lexer": "ipython3",
   "version": "3.11.4"
  }
 },
 "nbformat": 4,
 "nbformat_minor": 2
}
