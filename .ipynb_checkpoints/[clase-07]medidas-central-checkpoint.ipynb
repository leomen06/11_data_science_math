{
 "cells": [
  {
   "cell_type": "markdown",
   "metadata": {
    "cell_id": "00000-8fe37c28-fbd7-47c9-bad4-b2527b2de557",
    "deepnote_cell_type": "markdown",
    "tags": []
   },
   "source": [
    "# Medidas de tendencia central\n",
    "\n",
    "### Media = $$ \\frac{1}{N} \\sum_{i=1}^N x_i  $$ \n",
    "\n",
    "### Mediana(impar) = $$ x_{(n+1)/2}^{\\text{ordered}} $$\n",
    "\n",
    "### Mediana(par) = $$ \\frac{x_{n/2}^{\\text{ordered}} + x_{n/2+1}^{\\text{ordered}}}{2} $$\n",
    "\n",
    "### Moda = $$ x_k $$ donde $$ \\text{Freq}(x_k) = \\max{(\\text{Freq}(x_i))} $$ \n",
    "\n",
    "continuamos con el dataset https://www.kaggle.com/lepchenkov/usedcarscatalog"
   ]
  },
  {
   "cell_type": "code",
   "execution_count": 1,
   "metadata": {
    "cell_id": "00001-4949ec10-a4b1-46d5-b4a7-fcaf895688fd",
    "deepnote_cell_type": "code",
    "deepnote_to_be_reexecuted": false,
    "execution_millis": 261,
    "execution_start": 1622484690689,
    "output_cleared": false,
    "source_hash": "deaac73e",
    "tags": []
   },
   "outputs": [
    {
     "data": {
      "text/html": [
       "<div>\n",
       "<style scoped>\n",
       "    .dataframe tbody tr th:only-of-type {\n",
       "        vertical-align: middle;\n",
       "    }\n",
       "\n",
       "    .dataframe tbody tr th {\n",
       "        vertical-align: top;\n",
       "    }\n",
       "\n",
       "    .dataframe thead th {\n",
       "        text-align: right;\n",
       "    }\n",
       "</style>\n",
       "<table border=\"1\" class=\"dataframe\">\n",
       "  <thead>\n",
       "    <tr style=\"text-align: right;\">\n",
       "      <th></th>\n",
       "      <th>manufacturer_name</th>\n",
       "      <th>model_name</th>\n",
       "      <th>transmission</th>\n",
       "      <th>color</th>\n",
       "      <th>odometer_value</th>\n",
       "      <th>year_produced</th>\n",
       "      <th>engine_fuel</th>\n",
       "      <th>engine_has_gas</th>\n",
       "      <th>engine_type</th>\n",
       "      <th>engine_capacity</th>\n",
       "      <th>...</th>\n",
       "      <th>feature_1</th>\n",
       "      <th>feature_2</th>\n",
       "      <th>feature_3</th>\n",
       "      <th>feature_4</th>\n",
       "      <th>feature_5</th>\n",
       "      <th>feature_6</th>\n",
       "      <th>feature_7</th>\n",
       "      <th>feature_8</th>\n",
       "      <th>feature_9</th>\n",
       "      <th>duration_listed</th>\n",
       "    </tr>\n",
       "  </thead>\n",
       "  <tbody>\n",
       "    <tr>\n",
       "      <th>0</th>\n",
       "      <td>Subaru</td>\n",
       "      <td>Outback</td>\n",
       "      <td>automatic</td>\n",
       "      <td>silver</td>\n",
       "      <td>190000</td>\n",
       "      <td>2010</td>\n",
       "      <td>gasoline</td>\n",
       "      <td>False</td>\n",
       "      <td>gasoline</td>\n",
       "      <td>2.5</td>\n",
       "      <td>...</td>\n",
       "      <td>True</td>\n",
       "      <td>True</td>\n",
       "      <td>True</td>\n",
       "      <td>False</td>\n",
       "      <td>True</td>\n",
       "      <td>False</td>\n",
       "      <td>True</td>\n",
       "      <td>True</td>\n",
       "      <td>True</td>\n",
       "      <td>16</td>\n",
       "    </tr>\n",
       "    <tr>\n",
       "      <th>1</th>\n",
       "      <td>Subaru</td>\n",
       "      <td>Outback</td>\n",
       "      <td>automatic</td>\n",
       "      <td>blue</td>\n",
       "      <td>290000</td>\n",
       "      <td>2002</td>\n",
       "      <td>gasoline</td>\n",
       "      <td>False</td>\n",
       "      <td>gasoline</td>\n",
       "      <td>3.0</td>\n",
       "      <td>...</td>\n",
       "      <td>True</td>\n",
       "      <td>False</td>\n",
       "      <td>False</td>\n",
       "      <td>True</td>\n",
       "      <td>True</td>\n",
       "      <td>False</td>\n",
       "      <td>False</td>\n",
       "      <td>False</td>\n",
       "      <td>True</td>\n",
       "      <td>83</td>\n",
       "    </tr>\n",
       "    <tr>\n",
       "      <th>2</th>\n",
       "      <td>Subaru</td>\n",
       "      <td>Forester</td>\n",
       "      <td>automatic</td>\n",
       "      <td>red</td>\n",
       "      <td>402000</td>\n",
       "      <td>2001</td>\n",
       "      <td>gasoline</td>\n",
       "      <td>False</td>\n",
       "      <td>gasoline</td>\n",
       "      <td>2.5</td>\n",
       "      <td>...</td>\n",
       "      <td>True</td>\n",
       "      <td>False</td>\n",
       "      <td>False</td>\n",
       "      <td>False</td>\n",
       "      <td>False</td>\n",
       "      <td>False</td>\n",
       "      <td>False</td>\n",
       "      <td>True</td>\n",
       "      <td>True</td>\n",
       "      <td>151</td>\n",
       "    </tr>\n",
       "    <tr>\n",
       "      <th>3</th>\n",
       "      <td>Subaru</td>\n",
       "      <td>Impreza</td>\n",
       "      <td>mechanical</td>\n",
       "      <td>blue</td>\n",
       "      <td>10000</td>\n",
       "      <td>1999</td>\n",
       "      <td>gasoline</td>\n",
       "      <td>False</td>\n",
       "      <td>gasoline</td>\n",
       "      <td>3.0</td>\n",
       "      <td>...</td>\n",
       "      <td>False</td>\n",
       "      <td>False</td>\n",
       "      <td>False</td>\n",
       "      <td>False</td>\n",
       "      <td>False</td>\n",
       "      <td>False</td>\n",
       "      <td>False</td>\n",
       "      <td>False</td>\n",
       "      <td>False</td>\n",
       "      <td>86</td>\n",
       "    </tr>\n",
       "    <tr>\n",
       "      <th>4</th>\n",
       "      <td>Subaru</td>\n",
       "      <td>Legacy</td>\n",
       "      <td>automatic</td>\n",
       "      <td>black</td>\n",
       "      <td>280000</td>\n",
       "      <td>2001</td>\n",
       "      <td>gasoline</td>\n",
       "      <td>False</td>\n",
       "      <td>gasoline</td>\n",
       "      <td>2.5</td>\n",
       "      <td>...</td>\n",
       "      <td>True</td>\n",
       "      <td>False</td>\n",
       "      <td>True</td>\n",
       "      <td>True</td>\n",
       "      <td>False</td>\n",
       "      <td>False</td>\n",
       "      <td>False</td>\n",
       "      <td>False</td>\n",
       "      <td>True</td>\n",
       "      <td>7</td>\n",
       "    </tr>\n",
       "  </tbody>\n",
       "</table>\n",
       "<p>5 rows × 30 columns</p>\n",
       "</div>"
      ],
      "text/plain": [
       "  manufacturer_name model_name transmission   color  odometer_value  \\\n",
       "0            Subaru    Outback    automatic  silver          190000   \n",
       "1            Subaru    Outback    automatic    blue          290000   \n",
       "2            Subaru   Forester    automatic     red          402000   \n",
       "3            Subaru    Impreza   mechanical    blue           10000   \n",
       "4            Subaru     Legacy    automatic   black          280000   \n",
       "\n",
       "   year_produced engine_fuel  engine_has_gas engine_type  engine_capacity  \\\n",
       "0           2010    gasoline           False    gasoline              2.5   \n",
       "1           2002    gasoline           False    gasoline              3.0   \n",
       "2           2001    gasoline           False    gasoline              2.5   \n",
       "3           1999    gasoline           False    gasoline              3.0   \n",
       "4           2001    gasoline           False    gasoline              2.5   \n",
       "\n",
       "   ... feature_1  feature_2 feature_3 feature_4  feature_5  feature_6  \\\n",
       "0  ...      True       True      True     False       True      False   \n",
       "1  ...      True      False     False      True       True      False   \n",
       "2  ...      True      False     False     False      False      False   \n",
       "3  ...     False      False     False     False      False      False   \n",
       "4  ...      True      False      True      True      False      False   \n",
       "\n",
       "  feature_7  feature_8  feature_9  duration_listed  \n",
       "0      True       True       True               16  \n",
       "1     False      False       True               83  \n",
       "2     False       True       True              151  \n",
       "3     False      False      False               86  \n",
       "4     False      False       True                7  \n",
       "\n",
       "[5 rows x 30 columns]"
      ]
     },
     "execution_count": 1,
     "metadata": {},
     "output_type": "execute_result"
    }
   ],
   "source": [
    "import pandas as pd \n",
    "\n",
    "df = pd.read_csv('cars.csv')\n",
    "df.head()"
   ]
  },
  {
   "cell_type": "markdown",
   "metadata": {
    "cell_id": "00003-5bab5b0d-41f4-4fa7-833b-7f9bf950b644",
    "deepnote_cell_type": "markdown",
    "tags": []
   },
   "source": [
    "inspeccionemos el atributo de `price_usd` **(variable numérica continua)** de los autos listados en el dataset:"
   ]
  },
  {
   "cell_type": "code",
   "execution_count": null,
   "metadata": {
    "cell_id": "00002-e401d9fc-ec69-4479-b714-b0ae09329840",
    "deepnote_cell_type": "code",
    "deepnote_to_be_reexecuted": false,
    "execution_millis": 13,
    "execution_start": 1622484690950,
    "output_cleared": false,
    "source_hash": "bc174504",
    "tags": []
   },
   "outputs": [
    {
     "data": {
      "text/plain": [
       "6639.971021255613"
      ]
     },
     "execution_count": 2,
     "metadata": {},
     "output_type": "execute_result"
    }
   ],
   "source": [
    "df['price_usd'].mean()"
   ]
  },
  {
   "cell_type": "code",
   "execution_count": null,
   "metadata": {
    "cell_id": "00004-76438628-17f7-42fd-b624-30a9d1940c9c",
    "deepnote_cell_type": "code",
    "deepnote_to_be_reexecuted": false,
    "execution_millis": 8,
    "execution_start": 1622484690960,
    "output_cleared": false,
    "source_hash": "b7a97061",
    "tags": []
   },
   "outputs": [
    {
     "data": {
      "text/plain": [
       "4800.0"
      ]
     },
     "execution_count": 3,
     "metadata": {},
     "output_type": "execute_result"
    }
   ],
   "source": [
    "df['price_usd'].median()"
   ]
  },
  {
   "cell_type": "code",
   "execution_count": null,
   "metadata": {
    "cell_id": "00005-40382fd8-491d-487e-958f-cf27c670a3f1",
    "deepnote_cell_type": "code",
    "deepnote_to_be_reexecuted": false,
    "execution_millis": 828,
    "execution_start": 1622484690970,
    "output_cleared": false,
    "source_hash": "71a18e28",
    "tags": []
   },
   "outputs": [
    {
     "data": {
      "text/plain": [
       "<AxesSubplot:ylabel='Frequency'>"
      ]
     },
     "execution_count": 4,
     "metadata": {},
     "output_type": "execute_result"
    },
    {
     "data": {
      "image/png": "[encoded data removed]",
      "text/plain": [
       "<Figure size 432x288 with 1 Axes>"
      ]
     },
     "metadata": {
      "image/png": {
       "height": 248,
       "width": 402
      },
      "needs_background": "light"
     },
     "output_type": "display_data"
    }
   ],
   "source": [
    "df['price_usd'].plot.hist(bins=20)"
   ]
  },
  {
   "cell_type": "markdown",
   "metadata": {
    "cell_id": "00007-52fff311-495a-4d27-bdb2-642ccf7322eb",
    "deepnote_cell_type": "markdown",
    "tags": []
   },
   "source": [
    "resulta más interesante analizar los precios por marcas: \n",
    "\n",
    "* **pro tip:** usar seaborn: https://seaborn.pydata.org/tutorial/distributions.html"
   ]
  },
  {
   "cell_type": "code",
   "execution_count": 3,
   "metadata": {},
   "outputs": [],
   "source": [
    "import seaborn as sns"
   ]
  },
  {
   "cell_type": "code",
   "execution_count": null,
   "metadata": {
    "cell_id": "00008-ebc08b64-affc-4f34-a032-6d4358179ba5",
    "deepnote_cell_type": "code",
    "deepnote_to_be_reexecuted": false,
    "execution_millis": 27500,
    "execution_start": 1622484691838,
    "output_cleared": false,
    "source_hash": "d5a94b2e",
    "tags": []
   },
   "outputs": [
    {
     "data": {
      "text/plain": [
       "<seaborn.axisgrid.FacetGrid at 0x7f3842494750>"
      ]
     },
     "execution_count": 5,
     "metadata": {},
     "output_type": "execute_result"
    },
    {
     "data": {
      "image/png": "[encoded data removed]",
      "text/plain": [
       "<Figure size 471.75x360 with 1 Axes>"
      ]
     },
     "metadata": {
      "image/png": {
       "height": 858,
       "width": 470
      },
      "needs_background": "light"
     },
     "output_type": "display_data"
    }
   ],
   "source": [
    "sns.displot(df, x = 'price_usd', hue = 'manufacturer_name')"
   ]
  },
  {
   "cell_type": "code",
   "execution_count": 6,
   "metadata": {
    "cell_id": "00008-1970d9f6-50df-4a73-843a-c67bbd8d552b",
    "deepnote_cell_type": "code",
    "deepnote_to_be_reexecuted": false,
    "execution_millis": 1769,
    "execution_start": 1622484719382,
    "source_hash": "f543d35b",
    "tags": []
   },
   "outputs": [
    {
     "data": {
      "text/plain": [
       "<seaborn.axisgrid.FacetGrid at 0x7f505c5ace10>"
      ]
     },
     "execution_count": 6,
     "metadata": {},
     "output_type": "execute_result"
    },
    {
     "data": {
      "image/png": "[encoded data removed]",
      "text/plain": [
       "<Figure size 608.125x500 with 1 Axes>"
      ]
     },
     "metadata": {},
     "output_type": "display_data"
    }
   ],
   "source": [
    "sns.displot(df, x=\"price_usd\", hue=\"engine_type\")"
   ]
  },
  {
   "cell_type": "markdown",
   "metadata": {
    "cell_id": "00010-76395294-c383-42da-b492-bf0b4d2ca4f2",
    "deepnote_cell_type": "markdown",
    "tags": []
   },
   "source": [
    "el histograma anterior es muy dificil de analizar, ¿donde están los autos eléctricos?"
   ]
  },
  {
   "cell_type": "code",
   "execution_count": null,
   "metadata": {
    "cell_id": "00008-0bb11463-1e55-46b0-baee-2e646d43796d",
    "deepnote_cell_type": "code",
    "deepnote_to_be_reexecuted": false,
    "execution_millis": 1844,
    "execution_start": 1622484721157,
    "output_cleared": false,
    "source_hash": "3a3ac3c2",
    "tags": []
   },
   "outputs": [
    {
     "data": {
      "text/plain": [
       "<seaborn.axisgrid.FacetGrid at 0x7f383fe3ebd0>"
      ]
     },
     "execution_count": 7,
     "metadata": {},
     "output_type": "execute_result"
    },
    {
     "data": {
      "image/png": "[encoded data removed]",
      "text/plain": [
       "<Figure size 438x360 with 1 Axes>"
      ]
     },
     "metadata": {
      "image/png": {
       "height": 352,
       "width": 436
      },
      "needs_background": "light"
     },
     "output_type": "display_data"
    }
   ],
   "source": [
    "sns.displot(df, x='price_usd', hue = 'engine_type', multiple='stack')"
   ]
  },
  {
   "cell_type": "code",
   "execution_count": null,
   "metadata": {
    "cell_id": "00009-2c3bdab8-0952-43cc-8dc6-a7bcef8753bf",
    "deepnote_cell_type": "code",
    "deepnote_to_be_reexecuted": false,
    "execution_millis": 119,
    "execution_start": 1622484723014,
    "output_cleared": false,
    "source_hash": "4c516938",
    "tags": []
   },
   "outputs": [
    {
     "data": {
      "application/vnd.deepnote.dataframe.v2+json": {
       "column_count": 29,
       "columns": [
        {
         "dtype": "int64",
         "name": "manufacturer_name",
         "stats": {
          "histogram": [
           {
            "bin_end": 2573.7,
            "bin_start": 10,
            "count": 1
           },
           {
            "bin_end": 5137.4,
            "bin_start": 2573.7,
            "count": 0
           },
           {
            "bin_end": 7701.099999999999,
            "bin_start": 5137.4,
            "count": 0
           },
           {
            "bin_end": 10264.8,
            "bin_start": 7701.099999999999,
            "count": 0
           },
           {
            "bin_end": 12828.5,
            "bin_start": 10264.8,
            "count": 0
           },
           {
            "bin_end": 15392.199999999999,
            "bin_start": 12828.5,
            "count": 1
           },
           {
            "bin_end": 17955.899999999998,
            "bin_start": 15392.199999999999,
            "count": 0
           },
           {
            "bin_end": 20519.6,
            "bin_start": 17955.899999999998,
            "count": 0
           },
           {
            "bin_end": 23083.3,
            "bin_start": 20519.6,
            "count": 0
           },
           {
            "bin_end": 25647,
            "bin_start": 23083.3,
            "count": 1
           }
          ],
          "max": "25647",
          "min": "10",
          "nan_count": 0,
          "unique_count": 3
         }
        },
        {
         "dtype": "int64",
         "name": "model_name",
         "stats": {
          "histogram": [
           {
            "bin_end": 2573.7,
            "bin_start": 10,
            "count": 1
           },
           {
            "bin_end": 5137.4,
            "bin_start": 2573.7,
            "count": 0
           },
           {
            "bin_end": 7701.099999999999,
            "bin_start": 5137.4,
            "count": 0
           },
           {
            "bin_end": 10264.8,
            "bin_start": 7701.099999999999,
            "count": 0
           },
           {
            "bin_end": 12828.5,
            "bin_start": 10264.8,
            "count": 0
           },
           {
            "bin_end": 15392.199999999999,
            "bin_start": 12828.5,
            "count": 1
           },
           {
            "bin_end": 17955.899999999998,
            "bin_start": 15392.199999999999,
            "count": 0
           },
           {
            "bin_end": 20519.6,
            "bin_start": 17955.899999999998,
            "count": 0
           },
           {
            "bin_end": 23083.3,
            "bin_start": 20519.6,
            "count": 0
           },
           {
            "bin_end": 25647,
            "bin_start": 23083.3,
            "count": 1
           }
          ],
          "max": "25647",
          "min": "10",
          "nan_count": 0,
          "unique_count": 3
         }
        },
        {
         "dtype": "int64",
         "name": "transmission",
         "stats": {
          "histogram": [
           {
            "bin_end": 2573.7,
            "bin_start": 10,
            "count": 1
           },
           {
            "bin_end": 5137.4,
            "bin_start": 2573.7,
            "count": 0
           },
           {
            "bin_end": 7701.099999999999,
            "bin_start": 5137.4,
            "count": 0
           },
           {
            "bin_end": 10264.8,
            "bin_start": 7701.099999999999,
            "count": 0
           },
           {
            "bin_end": 12828.5,
            "bin_start": 10264.8,
            "count": 0
           },
           {
            "bin_end": 15392.199999999999,
            "bin_start": 12828.5,
            "count": 1
           },
           {
            "bin_end": 17955.899999999998,
            "bin_start": 15392.199999999999,
            "count": 0
           },
           {
            "bin_end": 20519.6,
            "bin_start": 17955.899999999998,
            "count": 0
           },
           {
            "bin_end": 23083.3,
            "bin_start": 20519.6,
            "count": 0
           },
           {
            "bin_end": 25647,
            "bin_start": 23083.3,
            "count": 1
           }
          ],
          "max": "25647",
          "min": "10",
          "nan_count": 0,
          "unique_count": 3
         }
        },
        {
         "dtype": "int64",
         "name": "color",
         "stats": {
          "histogram": [
           {
            "bin_end": 2573.7,
            "bin_start": 10,
            "count": 1
           },
           {
            "bin_end": 5137.4,
            "bin_start": 2573.7,
            "count": 0
           },
           {
            "bin_end": 7701.099999999999,
            "bin_start": 5137.4,
            "count": 0
           },
           {
            "bin_end": 10264.8,
            "bin_start": 7701.099999999999,
            "count": 0
           },
           {
            "bin_end": 12828.5,
            "bin_start": 10264.8,
            "count": 0
           },
           {
            "bin_end": 15392.199999999999,
            "bin_start": 12828.5,
            "count": 1
           },
           {
            "bin_end": 17955.899999999998,
            "bin_start": 15392.199999999999,
            "count": 0
           },
           {
            "bin_end": 20519.6,
            "bin_start": 17955.899999999998,
            "count": 0
           },
           {
            "bin_end": 23083.3,
            "bin_start": 20519.6,
            "count": 0
           },
           {
            "bin_end": 25647,
            "bin_start": 23083.3,
            "count": 1
           }
          ],
          "max": "25647",
          "min": "10",
          "nan_count": 0,
          "unique_count": 3
         }
        },
        {
         "dtype": "int64",
         "name": "odometer_value",
         "stats": {
          "histogram": [
           {
            "bin_end": 2573.7,
            "bin_start": 10,
            "count": 1
           },
           {
            "bin_end": 5137.4,
            "bin_start": 2573.7,
            "count": 0
           },
           {
            "bin_end": 7701.099999999999,
            "bin_start": 5137.4,
            "count": 0
           },
           {
            "bin_end": 10264.8,
            "bin_start": 7701.099999999999,
            "count": 0
           },
           {
            "bin_end": 12828.5,
            "bin_start": 10264.8,
            "count": 0
           },
           {
            "bin_end": 15392.199999999999,
            "bin_start": 12828.5,
            "count": 1
           },
           {
            "bin_end": 17955.899999999998,
            "bin_start": 15392.199999999999,
            "count": 0
           },
           {
            "bin_end": 20519.6,
            "bin_start": 17955.899999999998,
            "count": 0
           },
           {
            "bin_end": 23083.3,
            "bin_start": 20519.6,
            "count": 0
           },
           {
            "bin_end": 25647,
            "bin_start": 23083.3,
            "count": 1
           }
          ],
          "max": "25647",
          "min": "10",
          "nan_count": 0,
          "unique_count": 3
         }
        },
        {
         "dtype": "int64",
         "name": "year_produced",
         "stats": {
          "histogram": [
           {
            "bin_end": 2573.7,
            "bin_start": 10,
            "count": 1
           },
           {
            "bin_end": 5137.4,
            "bin_start": 2573.7,
            "count": 0
           },
           {
            "bin_end": 7701.099999999999,
            "bin_start": 5137.4,
            "count": 0
           },
           {
            "bin_end": 10264.8,
            "bin_start": 7701.099999999999,
            "count": 0
           },
           {
            "bin_end": 12828.5,
            "bin_start": 10264.8,
            "count": 0
           },
           {
            "bin_end": 15392.199999999999,
            "bin_start": 12828.5,
            "count": 1
           },
           {
            "bin_end": 17955.899999999998,
            "bin_start": 15392.199999999999,
            "count": 0
           },
           {
            "bin_end": 20519.6,
            "bin_start": 17955.899999999998,
            "count": 0
           },
           {
            "bin_end": 23083.3,
            "bin_start": 20519.6,
            "count": 0
           },
           {
            "bin_end": 25647,
            "bin_start": 23083.3,
            "count": 1
           }
          ],
          "max": "25647",
          "min": "10",
          "nan_count": 0,
          "unique_count": 3
         }
        },
        {
         "dtype": "int64",
         "name": "engine_fuel",
         "stats": {
          "histogram": [
           {
            "bin_end": 2573.7,
            "bin_start": 10,
            "count": 1
           },
           {
            "bin_end": 5137.4,
            "bin_start": 2573.7,
            "count": 0
           },
           {
            "bin_end": 7701.099999999999,
            "bin_start": 5137.4,
            "count": 0
           },
           {
            "bin_end": 10264.8,
            "bin_start": 7701.099999999999,
            "count": 0
           },
           {
            "bin_end": 12828.5,
            "bin_start": 10264.8,
            "count": 0
           },
           {
            "bin_end": 15392.199999999999,
            "bin_start": 12828.5,
            "count": 1
           },
           {
            "bin_end": 17955.899999999998,
            "bin_start": 15392.199999999999,
            "count": 0
           },
           {
            "bin_end": 20519.6,
            "bin_start": 17955.899999999998,
            "count": 0
           },
           {
            "bin_end": 23083.3,
            "bin_start": 20519.6,
            "count": 0
           },
           {
            "bin_end": 25647,
            "bin_start": 23083.3,
            "count": 1
           }
          ],
          "max": "25647",
          "min": "10",
          "nan_count": 0,
          "unique_count": 3
         }
        },
        {
         "dtype": "int64",
         "name": "engine_has_gas",
         "stats": {
          "histogram": [
           {
            "bin_end": 2573.7,
            "bin_start": 10,
            "count": 1
           },
           {
            "bin_end": 5137.4,
            "bin_start": 2573.7,
            "count": 0
           },
           {
            "bin_end": 7701.099999999999,
            "bin_start": 5137.4,
            "count": 0
           },
           {
            "bin_end": 10264.8,
            "bin_start": 7701.099999999999,
            "count": 0
           },
           {
            "bin_end": 12828.5,
            "bin_start": 10264.8,
            "count": 0
           },
           {
            "bin_end": 15392.199999999999,
            "bin_start": 12828.5,
            "count": 1
           },
           {
            "bin_end": 17955.899999999998,
            "bin_start": 15392.199999999999,
            "count": 0
           },
           {
            "bin_end": 20519.6,
            "bin_start": 17955.899999999998,
            "count": 0
           },
           {
            "bin_end": 23083.3,
            "bin_start": 20519.6,
            "count": 0
           },
           {
            "bin_end": 25647,
            "bin_start": 23083.3,
            "count": 1
           }
          ],
          "max": "25647",
          "min": "10",
          "nan_count": 0,
          "unique_count": 3
         }
        },
        {
         "dtype": "int64",
         "name": "engine_capacity",
         "stats": {
          "histogram": [
           {
            "bin_end": 2564.7,
            "bin_start": 0,
            "count": 1
           },
           {
            "bin_end": 5129.4,
            "bin_start": 2564.7,
            "count": 0
           },
           {
            "bin_end": 7694.099999999999,
            "bin_start": 5129.4,
            "count": 0
           },
           {
            "bin_end": 10258.8,
            "bin_start": 7694.099999999999,
            "count": 0
           },
           {
            "bin_end": 12823.5,
            "bin_start": 10258.8,
            "count": 0
           },
           {
            "bin_end": 15388.199999999999,
            "bin_start": 12823.5,
            "count": 1
           },
           {
            "bin_end": 17952.899999999998,
            "bin_start": 15388.199999999999,
            "count": 0
           },
           {
            "bin_end": 20517.6,
            "bin_start": 17952.899999999998,
            "count": 0
           },
           {
            "bin_end": 23082.3,
            "bin_start": 20517.6,
            "count": 0
           },
           {
            "bin_end": 25647,
            "bin_start": 23082.3,
            "count": 1
           }
          ],
          "max": "25647",
          "min": "0",
          "nan_count": 0,
          "unique_count": 3
         }
        },
        {
         "dtype": "int64",
         "name": "body_type",
         "stats": {
          "histogram": [
           {
            "bin_end": 2573.7,
            "bin_start": 10,
            "count": 1
           },
           {
            "bin_end": 5137.4,
            "bin_start": 2573.7,
            "count": 0
           },
           {
            "bin_end": 7701.099999999999,
            "bin_start": 5137.4,
            "count": 0
           },
           {
            "bin_end": 10264.8,
            "bin_start": 7701.099999999999,
            "count": 0
           },
           {
            "bin_end": 12828.5,
            "bin_start": 10264.8,
            "count": 0
           },
           {
            "bin_end": 15392.199999999999,
            "bin_start": 12828.5,
            "count": 1
           },
           {
            "bin_end": 17955.899999999998,
            "bin_start": 15392.199999999999,
            "count": 0
           },
           {
            "bin_end": 20519.6,
            "bin_start": 17955.899999999998,
            "count": 0
           },
           {
            "bin_end": 23083.3,
            "bin_start": 20519.6,
            "count": 0
           },
           {
            "bin_end": 25647,
            "bin_start": 23083.3,
            "count": 1
           }
          ],
          "max": "25647",
          "min": "10",
          "nan_count": 0,
          "unique_count": 3
         }
        },
        {
         "dtype": "int64",
         "name": "has_warranty",
         "stats": {
          "histogram": [
           {
            "bin_end": 2573.7,
            "bin_start": 10,
            "count": 1
           },
           {
            "bin_end": 5137.4,
            "bin_start": 2573.7,
            "count": 0
           },
           {
            "bin_end": 7701.099999999999,
            "bin_start": 5137.4,
            "count": 0
           },
           {
            "bin_end": 10264.8,
            "bin_start": 7701.099999999999,
            "count": 0
           },
           {
            "bin_end": 12828.5,
            "bin_start": 10264.8,
            "count": 0
           },
           {
            "bin_end": 15392.199999999999,
            "bin_start": 12828.5,
            "count": 1
           },
           {
            "bin_end": 17955.899999999998,
            "bin_start": 15392.199999999999,
            "count": 0
           },
           {
            "bin_end": 20519.6,
            "bin_start": 17955.899999999998,
            "count": 0
           },
           {
            "bin_end": 23083.3,
            "bin_start": 20519.6,
            "count": 0
           },
           {
            "bin_end": 25647,
            "bin_start": 23083.3,
            "count": 1
           }
          ],
          "max": "25647",
          "min": "10",
          "nan_count": 0,
          "unique_count": 3
         }
        },
        {
         "dtype": "int64",
         "name": "state",
         "stats": {
          "histogram": [
           {
            "bin_end": 2573.7,
            "bin_start": 10,
            "count": 1
           },
           {
            "bin_end": 5137.4,
            "bin_start": 2573.7,
            "count": 0
           },
           {
            "bin_end": 7701.099999999999,
            "bin_start": 5137.4,
            "count": 0
           },
           {
            "bin_end": 10264.8,
            "bin_start": 7701.099999999999,
            "count": 0
           },
           {
            "bin_end": 12828.5,
            "bin_start": 10264.8,
            "count": 0
           },
           {
            "bin_end": 15392.199999999999,
            "bin_start": 12828.5,
            "count": 1
           },
           {
            "bin_end": 17955.899999999998,
            "bin_start": 15392.199999999999,
            "count": 0
           },
           {
            "bin_end": 20519.6,
            "bin_start": 17955.899999999998,
            "count": 0
           },
           {
            "bin_end": 23083.3,
            "bin_start": 20519.6,
            "count": 0
           },
           {
            "bin_end": 25647,
            "bin_start": 23083.3,
            "count": 1
           }
          ],
          "max": "25647",
          "min": "10",
          "nan_count": 0,
          "unique_count": 3
         }
        },
        {
         "dtype": "int64",
         "name": "drivetrain",
         "stats": {
          "histogram": [
           {
            "bin_end": 2573.7,
            "bin_start": 10,
            "count": 1
           },
           {
            "bin_end": 5137.4,
            "bin_start": 2573.7,
            "count": 0
           },
           {
            "bin_end": 7701.099999999999,
            "bin_start": 5137.4,
            "count": 0
           },
           {
            "bin_end": 10264.8,
            "bin_start": 7701.099999999999,
            "count": 0
           },
           {
            "bin_end": 12828.5,
            "bin_start": 10264.8,
            "count": 0
           },
           {
            "bin_end": 15392.199999999999,
            "bin_start": 12828.5,
            "count": 1
           },
           {
            "bin_end": 17955.899999999998,
            "bin_start": 15392.199999999999,
            "count": 0
           },
           {
            "bin_end": 20519.6,
            "bin_start": 17955.899999999998,
            "count": 0
           },
           {
            "bin_end": 23083.3,
            "bin_start": 20519.6,
            "count": 0
           },
           {
            "bin_end": 25647,
            "bin_start": 23083.3,
            "count": 1
           }
          ],
          "max": "25647",
          "min": "10",
          "nan_count": 0,
          "unique_count": 3
         }
        },
        {
         "dtype": "int64",
         "name": "price_usd",
         "stats": {
          "histogram": [
           {
            "bin_end": 2573.7,
            "bin_start": 10,
            "count": 1
           },
           {
            "bin_end": 5137.4,
            "bin_start": 2573.7,
            "count": 0
           },
           {
            "bin_end": 7701.099999999999,
            "bin_start": 5137.4,
            "count": 0
           },
           {
            "bin_end": 10264.8,
            "bin_start": 7701.099999999999,
            "count": 0
           },
           {
            "bin_end": 12828.5,
            "bin_start": 10264.8,
            "count": 0
           },
           {
            "bin_end": 15392.199999999999,
            "bin_start": 12828.5,
            "count": 1
           },
           {
            "bin_end": 17955.899999999998,
            "bin_start": 15392.199999999999,
            "count": 0
           },
           {
            "bin_end": 20519.6,
            "bin_start": 17955.899999999998,
            "count": 0
           },
           {
            "bin_end": 23083.3,
            "bin_start": 20519.6,
            "count": 0
           },
           {
            "bin_end": 25647,
            "bin_start": 23083.3,
            "count": 1
           }
          ],
          "max": "25647",
          "min": "10",
          "nan_count": 0,
          "unique_count": 3
         }
        },
        {
         "dtype": "int64",
         "name": "is_exchangeable",
         "stats": {
          "histogram": [
           {
            "bin_end": 2573.7,
            "bin_start": 10,
            "count": 1
           },
           {
            "bin_end": 5137.4,
            "bin_start": 2573.7,
            "count": 0
           },
           {
            "bin_end": 7701.099999999999,
            "bin_start": 5137.4,
            "count": 0
           },
           {
            "bin_end": 10264.8,
            "bin_start": 7701.099999999999,
            "count": 0
           },
           {
            "bin_end": 12828.5,
            "bin_start": 10264.8,
            "count": 0
           },
           {
            "bin_end": 15392.199999999999,
            "bin_start": 12828.5,
            "count": 1
           },
           {
            "bin_end": 17955.899999999998,
            "bin_start": 15392.199999999999,
            "count": 0
           },
           {
            "bin_end": 20519.6,
            "bin_start": 17955.899999999998,
            "count": 0
           },
           {
            "bin_end": 23083.3,
            "bin_start": 20519.6,
            "count": 0
           },
           {
            "bin_end": 25647,
            "bin_start": 23083.3,
            "count": 1
           }
          ],
          "max": "25647",
          "min": "10",
          "nan_count": 0,
          "unique_count": 3
         }
        },
        {
         "dtype": "int64",
         "name": "location_region",
         "stats": {
          "histogram": [
           {
            "bin_end": 2573.7,
            "bin_start": 10,
            "count": 1
           },
           {
            "bin_end": 5137.4,
            "bin_start": 2573.7,
            "count": 0
           },
           {
            "bin_end": 7701.099999999999,
            "bin_start": 5137.4,
            "count": 0
           },
           {
            "bin_end": 10264.8,
            "bin_start": 7701.099999999999,
            "count": 0
           },
           {
            "bin_end": 12828.5,
            "bin_start": 10264.8,
            "count": 0
           },
           {
            "bin_end": 15392.199999999999,
            "bin_start": 12828.5,
            "count": 1
           },
           {
            "bin_end": 17955.899999999998,
            "bin_start": 15392.199999999999,
            "count": 0
           },
           {
            "bin_end": 20519.6,
            "bin_start": 17955.899999999998,
            "count": 0
           },
           {
            "bin_end": 23083.3,
            "bin_start": 20519.6,
            "count": 0
           },
           {
            "bin_end": 25647,
            "bin_start": 23083.3,
            "count": 1
           }
          ],
          "max": "25647",
          "min": "10",
          "nan_count": 0,
          "unique_count": 3
         }
        },
        {
         "dtype": "int64",
         "name": "number_of_photos",
         "stats": {
          "histogram": [
           {
            "bin_end": 2573.7,
            "bin_start": 10,
            "count": 1
           },
           {
            "bin_end": 5137.4,
            "bin_start": 2573.7,
            "count": 0
           },
           {
            "bin_end": 7701.099999999999,
            "bin_start": 5137.4,
            "count": 0
           },
           {
            "bin_end": 10264.8,
            "bin_start": 7701.099999999999,
            "count": 0
           },
           {
            "bin_end": 12828.5,
            "bin_start": 10264.8,
            "count": 0
           },
           {
            "bin_end": 15392.199999999999,
            "bin_start": 12828.5,
            "count": 1
           },
           {
            "bin_end": 17955.899999999998,
            "bin_start": 15392.199999999999,
            "count": 0
           },
           {
            "bin_end": 20519.6,
            "bin_start": 17955.899999999998,
            "count": 0
           },
           {
            "bin_end": 23083.3,
            "bin_start": 20519.6,
            "count": 0
           },
           {
            "bin_end": 25647,
            "bin_start": 23083.3,
            "count": 1
           }
          ],
          "max": "25647",
          "min": "10",
          "nan_count": 0,
          "unique_count": 3
         }
        },
        {
         "dtype": "int64",
         "name": "up_counter",
         "stats": {
          "histogram": [
           {
            "bin_end": 2573.7,
            "bin_start": 10,
            "count": 1
           },
           {
            "bin_end": 5137.4,
            "bin_start": 2573.7,
            "count": 0
           },
           {
            "bin_end": 7701.099999999999,
            "bin_start": 5137.4,
            "count": 0
           },
           {
            "bin_end": 10264.8,
            "bin_start": 7701.099999999999,
            "count": 0
           },
           {
            "bin_end": 12828.5,
            "bin_start": 10264.8,
            "count": 0
           },
           {
            "bin_end": 15392.199999999999,
            "bin_start": 12828.5,
            "count": 1
           },
           {
            "bin_end": 17955.899999999998,
            "bin_start": 15392.199999999999,
            "count": 0
           },
           {
            "bin_end": 20519.6,
            "bin_start": 17955.899999999998,
            "count": 0
           },
           {
            "bin_end": 23083.3,
            "bin_start": 20519.6,
            "count": 0
           },
           {
            "bin_end": 25647,
            "bin_start": 23083.3,
            "count": 1
           }
          ],
          "max": "25647",
          "min": "10",
          "nan_count": 0,
          "unique_count": 3
         }
        },
        {
         "dtype": "int64",
         "name": "feature_0",
         "stats": {
          "histogram": [
           {
            "bin_end": 2573.7,
            "bin_start": 10,
            "count": 1
           },
           {
            "bin_end": 5137.4,
            "bin_start": 2573.7,
            "count": 0
           },
           {
            "bin_end": 7701.099999999999,
            "bin_start": 5137.4,
            "count": 0
           },
           {
            "bin_end": 10264.8,
            "bin_start": 7701.099999999999,
            "count": 0
           },
           {
            "bin_end": 12828.5,
            "bin_start": 10264.8,
            "count": 0
           },
           {
            "bin_end": 15392.199999999999,
            "bin_start": 12828.5,
            "count": 1
           },
           {
            "bin_end": 17955.899999999998,
            "bin_start": 15392.199999999999,
            "count": 0
           },
           {
            "bin_end": 20519.6,
            "bin_start": 17955.899999999998,
            "count": 0
           },
           {
            "bin_end": 23083.3,
            "bin_start": 20519.6,
            "count": 0
           },
           {
            "bin_end": 25647,
            "bin_start": 23083.3,
            "count": 1
           }
          ],
          "max": "25647",
          "min": "10",
          "nan_count": 0,
          "unique_count": 3
         }
        },
        {
         "dtype": "int64",
         "name": "feature_1",
         "stats": {
          "histogram": [
           {
            "bin_end": 2573.7,
            "bin_start": 10,
            "count": 1
           },
           {
            "bin_end": 5137.4,
            "bin_start": 2573.7,
            "count": 0
           },
           {
            "bin_end": 7701.099999999999,
            "bin_start": 5137.4,
            "count": 0
           },
           {
            "bin_end": 10264.8,
            "bin_start": 7701.099999999999,
            "count": 0
           },
           {
            "bin_end": 12828.5,
            "bin_start": 10264.8,
            "count": 0
           },
           {
            "bin_end": 15392.199999999999,
            "bin_start": 12828.5,
            "count": 1
           },
           {
            "bin_end": 17955.899999999998,
            "bin_start": 15392.199999999999,
            "count": 0
           },
           {
            "bin_end": 20519.6,
            "bin_start": 17955.899999999998,
            "count": 0
           },
           {
            "bin_end": 23083.3,
            "bin_start": 20519.6,
            "count": 0
           },
           {
            "bin_end": 25647,
            "bin_start": 23083.3,
            "count": 1
           }
          ],
          "max": "25647",
          "min": "10",
          "nan_count": 0,
          "unique_count": 3
         }
        },
        {
         "dtype": "int64",
         "name": "feature_2",
         "stats": {
          "histogram": [
           {
            "bin_end": 2573.7,
            "bin_start": 10,
            "count": 1
           },
           {
            "bin_end": 5137.4,
            "bin_start": 2573.7,
            "count": 0
           },
           {
            "bin_end": 7701.099999999999,
            "bin_start": 5137.4,
            "count": 0
           },
           {
            "bin_end": 10264.8,
            "bin_start": 7701.099999999999,
            "count": 0
           },
           {
            "bin_end": 12828.5,
            "bin_start": 10264.8,
            "count": 0
           },
           {
            "bin_end": 15392.199999999999,
            "bin_start": 12828.5,
            "count": 1
           },
           {
            "bin_end": 17955.899999999998,
            "bin_start": 15392.199999999999,
            "count": 0
           },
           {
            "bin_end": 20519.6,
            "bin_start": 17955.899999999998,
            "count": 0
           },
           {
            "bin_end": 23083.3,
            "bin_start": 20519.6,
            "count": 0
           },
           {
            "bin_end": 25647,
            "bin_start": 23083.3,
            "count": 1
           }
          ],
          "max": "25647",
          "min": "10",
          "nan_count": 0,
          "unique_count": 3
         }
        },
        {
         "dtype": "int64",
         "name": "feature_3",
         "stats": {
          "histogram": [
           {
            "bin_end": 2573.7,
            "bin_start": 10,
            "count": 1
           },
           {
            "bin_end": 5137.4,
            "bin_start": 2573.7,
            "count": 0
           },
           {
            "bin_end": 7701.099999999999,
            "bin_start": 5137.4,
            "count": 0
           },
           {
            "bin_end": 10264.8,
            "bin_start": 7701.099999999999,
            "count": 0
           },
           {
            "bin_end": 12828.5,
            "bin_start": 10264.8,
            "count": 0
           },
           {
            "bin_end": 15392.199999999999,
            "bin_start": 12828.5,
            "count": 1
           },
           {
            "bin_end": 17955.899999999998,
            "bin_start": 15392.199999999999,
            "count": 0
           },
           {
            "bin_end": 20519.6,
            "bin_start": 17955.899999999998,
            "count": 0
           },
           {
            "bin_end": 23083.3,
            "bin_start": 20519.6,
            "count": 0
           },
           {
            "bin_end": 25647,
            "bin_start": 23083.3,
            "count": 1
           }
          ],
          "max": "25647",
          "min": "10",
          "nan_count": 0,
          "unique_count": 3
         }
        },
        {
         "dtype": "int64",
         "name": "feature_4",
         "stats": {
          "histogram": [
           {
            "bin_end": 2573.7,
            "bin_start": 10,
            "count": 1
           },
           {
            "bin_end": 5137.4,
            "bin_start": 2573.7,
            "count": 0
           },
           {
            "bin_end": 7701.099999999999,
            "bin_start": 5137.4,
            "count": 0
           },
           {
            "bin_end": 10264.8,
            "bin_start": 7701.099999999999,
            "count": 0
           },
           {
            "bin_end": 12828.5,
            "bin_start": 10264.8,
            "count": 0
           },
           {
            "bin_end": 15392.199999999999,
            "bin_start": 12828.5,
            "count": 1
           },
           {
            "bin_end": 17955.899999999998,
            "bin_start": 15392.199999999999,
            "count": 0
           },
           {
            "bin_end": 20519.6,
            "bin_start": 17955.899999999998,
            "count": 0
           },
           {
            "bin_end": 23083.3,
            "bin_start": 20519.6,
            "count": 0
           },
           {
            "bin_end": 25647,
            "bin_start": 23083.3,
            "count": 1
           }
          ],
          "max": "25647",
          "min": "10",
          "nan_count": 0,
          "unique_count": 3
         }
        },
        {
         "dtype": "int64",
         "name": "feature_5",
         "stats": {
          "histogram": [
           {
            "bin_end": 2573.7,
            "bin_start": 10,
            "count": 1
           },
           {
            "bin_end": 5137.4,
            "bin_start": 2573.7,
            "count": 0
           },
           {
            "bin_end": 7701.099999999999,
            "bin_start": 5137.4,
            "count": 0
           },
           {
            "bin_end": 10264.8,
            "bin_start": 7701.099999999999,
            "count": 0
           },
           {
            "bin_end": 12828.5,
            "bin_start": 10264.8,
            "count": 0
           },
           {
            "bin_end": 15392.199999999999,
            "bin_start": 12828.5,
            "count": 1
           },
           {
            "bin_end": 17955.899999999998,
            "bin_start": 15392.199999999999,
            "count": 0
           },
           {
            "bin_end": 20519.6,
            "bin_start": 17955.899999999998,
            "count": 0
           },
           {
            "bin_end": 23083.3,
            "bin_start": 20519.6,
            "count": 0
           },
           {
            "bin_end": 25647,
            "bin_start": 23083.3,
            "count": 1
           }
          ],
          "max": "25647",
          "min": "10",
          "nan_count": 0,
          "unique_count": 3
         }
        },
        {
         "dtype": "int64",
         "name": "feature_6",
         "stats": {
          "histogram": [
           {
            "bin_end": 2573.7,
            "bin_start": 10,
            "count": 1
           },
           {
            "bin_end": 5137.4,
            "bin_start": 2573.7,
            "count": 0
           },
           {
            "bin_end": 7701.099999999999,
            "bin_start": 5137.4,
            "count": 0
           },
           {
            "bin_end": 10264.8,
            "bin_start": 7701.099999999999,
            "count": 0
           },
           {
            "bin_end": 12828.5,
            "bin_start": 10264.8,
            "count": 0
           },
           {
            "bin_end": 15392.199999999999,
            "bin_start": 12828.5,
            "count": 1
           },
           {
            "bin_end": 17955.899999999998,
            "bin_start": 15392.199999999999,
            "count": 0
           },
           {
            "bin_end": 20519.6,
            "bin_start": 17955.899999999998,
            "count": 0
           },
           {
            "bin_end": 23083.3,
            "bin_start": 20519.6,
            "count": 0
           },
           {
            "bin_end": 25647,
            "bin_start": 23083.3,
            "count": 1
           }
          ],
          "max": "25647",
          "min": "10",
          "nan_count": 0,
          "unique_count": 3
         }
        },
        {
         "dtype": "int64",
         "name": "feature_7",
         "stats": {
          "histogram": [
           {
            "bin_end": 2573.7,
            "bin_start": 10,
            "count": 1
           },
           {
            "bin_end": 5137.4,
            "bin_start": 2573.7,
            "count": 0
           },
           {
            "bin_end": 7701.099999999999,
            "bin_start": 5137.4,
            "count": 0
           },
           {
            "bin_end": 10264.8,
            "bin_start": 7701.099999999999,
            "count": 0
           },
           {
            "bin_end": 12828.5,
            "bin_start": 10264.8,
            "count": 0
           },
           {
            "bin_end": 15392.199999999999,
            "bin_start": 12828.5,
            "count": 1
           },
           {
            "bin_end": 17955.899999999998,
            "bin_start": 15392.199999999999,
            "count": 0
           },
           {
            "bin_end": 20519.6,
            "bin_start": 17955.899999999998,
            "count": 0
           },
           {
            "bin_end": 23083.3,
            "bin_start": 20519.6,
            "count": 0
           },
           {
            "bin_end": 25647,
            "bin_start": 23083.3,
            "count": 1
           }
          ],
          "max": "25647",
          "min": "10",
          "nan_count": 0,
          "unique_count": 3
         }
        },
        {
         "dtype": "int64",
         "name": "feature_8",
         "stats": {
          "histogram": [
           {
            "bin_end": 2573.7,
            "bin_start": 10,
            "count": 1
           },
           {
            "bin_end": 5137.4,
            "bin_start": 2573.7,
            "count": 0
           },
           {
            "bin_end": 7701.099999999999,
            "bin_start": 5137.4,
            "count": 0
           },
           {
            "bin_end": 10264.8,
            "bin_start": 7701.099999999999,
            "count": 0
           },
           {
            "bin_end": 12828.5,
            "bin_start": 10264.8,
            "count": 0
           },
           {
            "bin_end": 15392.199999999999,
            "bin_start": 12828.5,
            "count": 1
           },
           {
            "bin_end": 17955.899999999998,
            "bin_start": 15392.199999999999,
            "count": 0
           },
           {
            "bin_end": 20519.6,
            "bin_start": 17955.899999999998,
            "count": 0
           },
           {
            "bin_end": 23083.3,
            "bin_start": 20519.6,
            "count": 0
           },
           {
            "bin_end": 25647,
            "bin_start": 23083.3,
            "count": 1
           }
          ],
          "max": "25647",
          "min": "10",
          "nan_count": 0,
          "unique_count": 3
         }
        },
        {
         "dtype": "int64",
         "name": "feature_9",
         "stats": {
          "histogram": [
           {
            "bin_end": 2573.7,
            "bin_start": 10,
            "count": 1
           },
           {
            "bin_end": 5137.4,
            "bin_start": 2573.7,
            "count": 0
           },
           {
            "bin_end": 7701.099999999999,
            "bin_start": 5137.4,
            "count": 0
           },
           {
            "bin_end": 10264.8,
            "bin_start": 7701.099999999999,
            "count": 0
           },
           {
            "bin_end": 12828.5,
            "bin_start": 10264.8,
            "count": 0
           },
           {
            "bin_end": 15392.199999999999,
            "bin_start": 12828.5,
            "count": 1
           },
           {
            "bin_end": 17955.899999999998,
            "bin_start": 15392.199999999999,
            "count": 0
           },
           {
            "bin_end": 20519.6,
            "bin_start": 17955.899999999998,
            "count": 0
           },
           {
            "bin_end": 23083.3,
            "bin_start": 20519.6,
            "count": 0
           },
           {
            "bin_end": 25647,
            "bin_start": 23083.3,
            "count": 1
           }
          ],
          "max": "25647",
          "min": "10",
          "nan_count": 0,
          "unique_count": 3
         }
        },
        {
         "dtype": "int64",
         "name": "duration_listed",
         "stats": {
          "histogram": [
           {
            "bin_end": 2573.7,
            "bin_start": 10,
            "count": 1
           },
           {
            "bin_end": 5137.4,
            "bin_start": 2573.7,
            "count": 0
           },
           {
            "bin_end": 7701.099999999999,
            "bin_start": 5137.4,
            "count": 0
           },
           {
            "bin_end": 10264.8,
            "bin_start": 7701.099999999999,
            "count": 0
           },
           {
            "bin_end": 12828.5,
            "bin_start": 10264.8,
            "count": 0
           },
           {
            "bin_end": 15392.199999999999,
            "bin_start": 12828.5,
            "count": 1
           },
           {
            "bin_end": 17955.899999999998,
            "bin_start": 15392.199999999999,
            "count": 0
           },
           {
            "bin_end": 20519.6,
            "bin_start": 17955.899999999998,
            "count": 0
           },
           {
            "bin_end": 23083.3,
            "bin_start": 20519.6,
            "count": 0
           },
           {
            "bin_end": 25647,
            "bin_start": 23083.3,
            "count": 1
           }
          ],
          "max": "25647",
          "min": "10",
          "nan_count": 0,
          "unique_count": 3
         }
        },
        {
         "dtype": "object",
         "name": "_deepnote_index_column"
        }
       ],
       "row_count": 3,
       "rows_bottom": null,
       "rows_top": [
        {
         "_deepnote_index_column": "diesel",
         "body_type": 12874,
         "color": 12874,
         "drivetrain": 12874,
         "duration_listed": 12874,
         "engine_capacity": 12874,
         "engine_fuel": 12874,
         "engine_has_gas": 12874,
         "feature_0": 12874,
         "feature_1": 12874,
         "feature_2": 12874,
         "feature_3": 12874,
         "feature_4": 12874,
         "feature_5": 12874,
         "feature_6": 12874,
         "feature_7": 12874,
         "feature_8": 12874,
         "feature_9": 12874,
         "has_warranty": 12874,
         "is_exchangeable": 12874,
         "location_region": 12874,
         "manufacturer_name": 12874,
         "model_name": 12874,
         "number_of_photos": 12874,
         "odometer_value": 12874,
         "price_usd": 12874,
         "state": 12874,
         "transmission": 12874,
         "up_counter": 12874,
         "year_produced": 12874
        },
        {
         "_deepnote_index_column": "electric",
         "body_type": 10,
         "color": 10,
         "drivetrain": 10,
         "duration_listed": 10,
         "engine_capacity": 0,
         "engine_fuel": 10,
         "engine_has_gas": 10,
         "feature_0": 10,
         "feature_1": 10,
         "feature_2": 10,
         "feature_3": 10,
         "feature_4": 10,
         "feature_5": 10,
         "feature_6": 10,
         "feature_7": 10,
         "feature_8": 10,
         "feature_9": 10,
         "has_warranty": 10,
         "is_exchangeable": 10,
         "location_region": 10,
         "manufacturer_name": 10,
         "model_name": 10,
         "number_of_photos": 10,
         "odometer_value": 10,
         "price_usd": 10,
         "state": 10,
         "transmission": 10,
         "up_counter": 10,
         "year_produced": 10
        },
        {
         "_deepnote_index_column": "gasoline",
         "body_type": 25647,
         "color": 25647,
         "drivetrain": 25647,
         "duration_listed": 25647,
         "engine_capacity": 25647,
         "engine_fuel": 25647,
         "engine_has_gas": 25647,
         "feature_0": 25647,
         "feature_1": 25647,
         "feature_2": 25647,
         "feature_3": 25647,
         "feature_4": 25647,
         "feature_5": 25647,
         "feature_6": 25647,
         "feature_7": 25647,
         "feature_8": 25647,
         "feature_9": 25647,
         "has_warranty": 25647,
         "is_exchangeable": 25647,
         "location_region": 25647,
         "manufacturer_name": 25647,
         "model_name": 25647,
         "number_of_photos": 25647,
         "odometer_value": 25647,
         "price_usd": 25647,
         "state": 25647,
         "transmission": 25647,
         "up_counter": 25647,
         "year_produced": 25647
        }
       ]
      },
      "text/html": [
       "<div>\n",
       "<style scoped>\n",
       "    .dataframe tbody tr th:only-of-type {\n",
       "        vertical-align: middle;\n",
       "    }\n",
       "\n",
       "    .dataframe tbody tr th {\n",
       "        vertical-align: top;\n",
       "    }\n",
       "\n",
       "    .dataframe thead th {\n",
       "        text-align: right;\n",
       "    }\n",
       "</style>\n",
       "<table border=\"1\" class=\"dataframe\">\n",
       "  <thead>\n",
       "    <tr style=\"text-align: right;\">\n",
       "      <th></th>\n",
       "      <th>manufacturer_name</th>\n",
       "      <th>model_name</th>\n",
       "      <th>transmission</th>\n",
       "      <th>color</th>\n",
       "      <th>odometer_value</th>\n",
       "      <th>year_produced</th>\n",
       "      <th>engine_fuel</th>\n",
       "      <th>engine_has_gas</th>\n",
       "      <th>engine_capacity</th>\n",
       "      <th>body_type</th>\n",
       "      <th>...</th>\n",
       "      <th>feature_1</th>\n",
       "      <th>feature_2</th>\n",
       "      <th>feature_3</th>\n",
       "      <th>feature_4</th>\n",
       "      <th>feature_5</th>\n",
       "      <th>feature_6</th>\n",
       "      <th>feature_7</th>\n",
       "      <th>feature_8</th>\n",
       "      <th>feature_9</th>\n",
       "      <th>duration_listed</th>\n",
       "    </tr>\n",
       "    <tr>\n",
       "      <th>engine_type</th>\n",
       "      <th></th>\n",
       "      <th></th>\n",
       "      <th></th>\n",
       "      <th></th>\n",
       "      <th></th>\n",
       "      <th></th>\n",
       "      <th></th>\n",
       "      <th></th>\n",
       "      <th></th>\n",
       "      <th></th>\n",
       "      <th></th>\n",
       "      <th></th>\n",
       "      <th></th>\n",
       "      <th></th>\n",
       "      <th></th>\n",
       "      <th></th>\n",
       "      <th></th>\n",
       "      <th></th>\n",
       "      <th></th>\n",
       "      <th></th>\n",
       "      <th></th>\n",
       "    </tr>\n",
       "  </thead>\n",
       "  <tbody>\n",
       "    <tr>\n",
       "      <th>diesel</th>\n",
       "      <td>12874</td>\n",
       "      <td>12874</td>\n",
       "      <td>12874</td>\n",
       "      <td>12874</td>\n",
       "      <td>12874</td>\n",
       "      <td>12874</td>\n",
       "      <td>12874</td>\n",
       "      <td>12874</td>\n",
       "      <td>12874</td>\n",
       "      <td>12874</td>\n",
       "      <td>...</td>\n",
       "      <td>12874</td>\n",
       "      <td>12874</td>\n",
       "      <td>12874</td>\n",
       "      <td>12874</td>\n",
       "      <td>12874</td>\n",
       "      <td>12874</td>\n",
       "      <td>12874</td>\n",
       "      <td>12874</td>\n",
       "      <td>12874</td>\n",
       "      <td>12874</td>\n",
       "    </tr>\n",
       "    <tr>\n",
       "      <th>electric</th>\n",
       "      <td>10</td>\n",
       "      <td>10</td>\n",
       "      <td>10</td>\n",
       "      <td>10</td>\n",
       "      <td>10</td>\n",
       "      <td>10</td>\n",
       "      <td>10</td>\n",
       "      <td>10</td>\n",
       "      <td>0</td>\n",
       "      <td>10</td>\n",
       "      <td>...</td>\n",
       "      <td>10</td>\n",
       "      <td>10</td>\n",
       "      <td>10</td>\n",
       "      <td>10</td>\n",
       "      <td>10</td>\n",
       "      <td>10</td>\n",
       "      <td>10</td>\n",
       "      <td>10</td>\n",
       "      <td>10</td>\n",
       "      <td>10</td>\n",
       "    </tr>\n",
       "    <tr>\n",
       "      <th>gasoline</th>\n",
       "      <td>25647</td>\n",
       "      <td>25647</td>\n",
       "      <td>25647</td>\n",
       "      <td>25647</td>\n",
       "      <td>25647</td>\n",
       "      <td>25647</td>\n",
       "      <td>25647</td>\n",
       "      <td>25647</td>\n",
       "      <td>25647</td>\n",
       "      <td>25647</td>\n",
       "      <td>...</td>\n",
       "      <td>25647</td>\n",
       "      <td>25647</td>\n",
       "      <td>25647</td>\n",
       "      <td>25647</td>\n",
       "      <td>25647</td>\n",
       "      <td>25647</td>\n",
       "      <td>25647</td>\n",
       "      <td>25647</td>\n",
       "      <td>25647</td>\n",
       "      <td>25647</td>\n",
       "    </tr>\n",
       "  </tbody>\n",
       "</table>\n",
       "<p>3 rows × 29 columns</p>\n",
       "</div>"
      ],
      "text/plain": [
       "             manufacturer_name  model_name  transmission  color  \\\n",
       "engine_type                                                       \n",
       "diesel                   12874       12874         12874  12874   \n",
       "electric                    10          10            10     10   \n",
       "gasoline                 25647       25647         25647  25647   \n",
       "\n",
       "             odometer_value  year_produced  engine_fuel  engine_has_gas  \\\n",
       "engine_type                                                               \n",
       "diesel                12874          12874        12874           12874   \n",
       "electric                 10             10           10              10   \n",
       "gasoline              25647          25647        25647           25647   \n",
       "\n",
       "             engine_capacity  body_type  ...  feature_1  feature_2  feature_3  \\\n",
       "engine_type                              ...                                    \n",
       "diesel                 12874      12874  ...      12874      12874      12874   \n",
       "electric                   0         10  ...         10         10         10   \n",
       "gasoline               25647      25647  ...      25647      25647      25647   \n",
       "\n",
       "             feature_4  feature_5  feature_6  feature_7  feature_8  feature_9  \\\n",
       "engine_type                                                                     \n",
       "diesel           12874      12874      12874      12874      12874      12874   \n",
       "electric            10         10         10         10         10         10   \n",
       "gasoline         25647      25647      25647      25647      25647      25647   \n",
       "\n",
       "             duration_listed  \n",
       "engine_type                   \n",
       "diesel                 12874  \n",
       "electric                  10  \n",
       "gasoline               25647  \n",
       "\n",
       "[3 rows x 29 columns]"
      ]
     },
     "execution_count": 8,
     "metadata": {},
     "output_type": "execute_result"
    }
   ],
   "source": [
    "df.groupby('engine_type').count()"
   ]
  },
  {
   "cell_type": "markdown",
   "metadata": {
    "cell_id": "00013-70002ad3-5431-42ce-8104-5d7d7c2f5dd1",
    "deepnote_cell_type": "markdown",
    "tags": []
   },
   "source": [
    "**RETO:** Inspeccionemos precios de una marca y modelo particular !\n",
    "\n"
   ]
  },
  {
   "cell_type": "code",
   "execution_count": null,
   "metadata": {
    "cell_id": "00009-4ced9f5a-0590-443d-8740-4052581ee182",
    "deepnote_cell_type": "code",
    "deepnote_to_be_reexecuted": false,
    "execution_millis": 649,
    "execution_start": 1622484723144,
    "output_cleared": false,
    "source_hash": "ec032a66",
    "tags": []
   },
   "outputs": [
    {
     "data": {
      "text/plain": [
       "<AxesSubplot:xlabel='price_usd', ylabel='Count'>"
      ]
     },
     "execution_count": 9,
     "metadata": {},
     "output_type": "execute_result"
    },
    {
     "data": {
      "image/png": "[encoded data removed]",
      "text/plain": [
       "<Figure size 432x288 with 1 Axes>"
      ]
     },
     "metadata": {
      "image/png": {
       "height": 263,
       "width": 382
      },
      "needs_background": "light"
     },
     "output_type": "display_data"
    }
   ],
   "source": [
    "Q7_df = df[(df['manufacturer_name']=='Audi') & (df['model_name']=='Q7')]\n",
    "sns.histplot(Q7_df, x='price_usd', hue = 'year_produced')"
   ]
  },
  {
   "cell_type": "markdown",
   "metadata": {},
   "source": [
    "### Medidas de dispersión\n",
    "\n",
    "* **Rango:** El Rango es el intervalo entre el valor máximo y el valor mínimo.\n",
    "\n",
    "* **Cuartiles:** Los cuartiles son valores que dividen una muestra de datos en cuatro partes iguales.\n",
    "\n",
    "* **1er cuartil (Q1):** 25% de los datos.\n",
    "\n",
    "* **2do cuartil (Q2):** Coincide con la mediana, 50% de los datos.\n",
    "\n",
    "* **3er cuartil (Q3):** 75% de los datos.\n",
    "\n",
    "* **Rango intercuartil (IQR):** La distancia entre el primer 1er cuartil y el 3er cuartil (Q3-Q1), abarcando la mediana.\n",
    "\n",
    "* **Diagrama de caja o box plot:** representa gráficamente una serie de datos numéricos a través de sus cuartiles. De esta manera, el diagrama de caja muestra a simple vista la mediana y los cuartiles de los datos. También puede representar los valores atípicos de estos."
   ]
  },
  {
   "cell_type": "markdown",
   "metadata": {
    "created_in_deepnote_cell": true,
    "deepnote_cell_type": "markdown",
    "tags": []
   },
   "source": [
    "<a style='text-decoration:none;line-height:16px;display:flex;color:#5B5B62;padding:10px;justify-content:end;' href='https://deepnote.com?utm_source=created-in-deepnote-cell&projectId=3f569948-e9a8-454f-8f4d-a27aa1610a87' target=\"_blank\">\n",
    "<img alt='Created in deepnote.com' style='display:inline;max-height:16px;margin:0px;margin-right:7.5px;' src='data:image/svg+xml;base64,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' > </img>\n",
    "Created in <span style='font-weight:600;margin-left:4px;'>Deepnote</span></a>"
   ]
  }
 ],
 "metadata": {
  "deepnote": {
   "is_reactive": false
  },
  "deepnote_execution_queue": [],
  "deepnote_notebook_id": "0cb6ba8f-ae94-443e-a494-c94782fd00d2",
  "kernelspec": {
   "display_name": "jupyter_kernel_01",
   "language": "python",
   "name": "data_trans_env"
  },
  "language_info": {
   "codemirror_mode": {
    "name": "ipython",
    "version": 3
   },
   "file_extension": ".py",
   "mimetype": "text/x-python",
   "name": "python",
   "nbconvert_exporter": "python",
   "pygments_lexer": "ipython3",
   "version": "3.11.3"
  }
 },
 "nbformat": 4,
 "nbformat_minor": 2
}
